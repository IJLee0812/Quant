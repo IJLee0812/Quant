{
  "cells": [
    {
      "cell_type": "markdown",
      "metadata": {
        "id": "bMe1MCzIV5rG"
      },
      "source": [
        "# 타겟 ETF(11개) <-> 매크로 변수(13개) 간 그레인저 인과 검정\n",
        "\n",
        "    총 검정 횟수 : 11 x 13 x 2(양방향) = 286 번.\n",
        "\n",
        "\n",
        "---\n",
        "---\n",
        "---\n",
        "\n",
        "# 1. xlsx 파일 파싱하여 매크로변수 추출"
      ]
    },
    {
      "cell_type": "code",
      "execution_count": 1,
      "metadata": {
        "id": "--zSiYrTWBfu"
      },
      "outputs": [],
      "source": [
        "import pandas as pd\n",
        "import numpy as np\n",
        "import yfinance as yf\n",
        "import pandas_datareader.data as web\n",
        "from statsmodels.tsa.stattools import grangercausalitytests"
      ]
    },
    {
      "cell_type": "markdown",
      "metadata": {
        "id": "FcdVCxwkUdTb"
      },
      "source": [
        "### 중요도1.xlsx 파일 파싱하여 매크로변수 추출"
      ]
    },
    {
      "cell_type": "code",
      "execution_count": 2,
      "metadata": {
        "id": "LKwbZxD4RUP9"
      },
      "outputs": [],
      "source": [
        "# Excel 파일 경로\n",
        "file_path = './macrovariables/1.xlsx'\n",
        "\n",
        "# Excel 파일 읽기\n",
        "xl = pd.ExcelFile(file_path)\n",
        "\n",
        "# 주별 데이터 시트에서 데이터프레임 생성\n",
        "df1 = xl.parse('주별 데이터')\n",
        "df1.columns = ['date', 'initial_jobless_claim']\n",
        "df1['date'] = pd.to_datetime(df1['date'])\n",
        "df1.set_index('date', inplace = True)\n",
        "\n",
        "# 일별 데이터 시트에서 데이터프레임 생성\n",
        "df2 = xl.parse('일별 데이터')\n",
        "df2.columns = ['date', 'gdp_now_forecast']\n",
        "df2['date'] = pd.to_datetime(df2['date'])\n",
        "df2.set_index('date', inplace = True)\n",
        "\n",
        "# # 결과 확인\n",
        "# print(\"Initial Jobless Claims (Weekly):\")\n",
        "# print(df1.head())\n",
        "\n",
        "# print(\"\\nGDP Now Forecast (Daily):\")\n",
        "# print(df2.head())"
      ]
    },
    {
      "cell_type": "markdown",
      "metadata": {
        "id": "whI7tsgzVN_v"
      },
      "source": [
        "### 중요도2.xlsx 파일 파싱하여 매크로변수 추출"
      ]
    },
    {
      "cell_type": "code",
      "execution_count": 3,
      "metadata": {
        "id": "Z4DBHCSYUPtv"
      },
      "outputs": [],
      "source": [
        "# Excel 파일 경로\n",
        "file_path = './macrovariables/2.xlsx'\n",
        "\n",
        "# Excel 파일 읽기\n",
        "xl = pd.ExcelFile(file_path)\n",
        "\n",
        "# 분기별 데이터에서 실질 GDP 연율 전기대비 추출\n",
        "df3 = xl.parse('분기별 데이터')\n",
        "df3.columns = ['date', 'real_gdp_qoq']\n",
        "df3['date'] = pd.to_datetime(df3['date'])\n",
        "df3.set_index('date', inplace = True)\n",
        "\n",
        "# 월별 데이터에서 ISM 제조업지수, ISM 비제조업지수, CPI 추출\n",
        "monthly_data = xl.parse('월별 데이터')\n",
        "monthly_data['날짜'] = pd.to_datetime(monthly_data['날짜'], format = '%Y/%m')\n",
        "monthly_data.set_index('날짜', inplace = True)\n",
        "\n",
        "df4 = monthly_data[['[미국]ISM제조업지수']].rename(columns = {'[미국]ISM제조업지수': 'ism_manufacturing'})\n",
        "df5 = monthly_data[['[미국]ISM비제조업지수']].rename(columns = {'[미국]ISM비제조업지수': 'ism_nonmanufacturing'})\n",
        "df6 = monthly_data[['[미국]CPI(원지수)']].rename(columns = {'[미국]CPI(원지수)': 'cpi'})\n",
        "\n",
        "# 일별 데이터에서 BEI 기대 인플레이션 추출\n",
        "df7 = xl.parse('일별 데이터')\n",
        "df7.columns = ['date', 'bei_breakeven_inflation']\n",
        "df7['date'] = pd.to_datetime(df7['date'])\n",
        "df7.set_index('date', inplace = True)\n",
        "\n",
        "# WTI 유가 추출\n",
        "df8 = xl.parse('WTI')\n",
        "df8.columns = ['date', 'wti_oil_price']\n",
        "df8['date'] = pd.to_datetime(df8['date'])\n",
        "df8.set_index('date', inplace = True)\n",
        "\n",
        "# 금값 추출\n",
        "df9 = xl.parse('금')\n",
        "df9.columns = ['date', 'gold_price']\n",
        "df9['date'] = pd.to_datetime(df9['date'])\n",
        "df9.set_index('date', inplace = True)\n",
        "\n",
        "# # 결과 확인\n",
        "# print(\"Real GDP QoQ (Quarterly):\")\n",
        "# print(df3.head())\n",
        "\n",
        "# print(\"\\nISM Manufacturing (Monthly):\")\n",
        "# print(df4.head())\n",
        "\n",
        "# print(\"\\nISM Non-Manufacturing (Monthly):\")\n",
        "# print(df5.head())\n",
        "\n",
        "# print(\"\\nCPI (Monthly):\")\n",
        "# print(df6.head())\n",
        "\n",
        "# print(\"\\nBEI Breakeven Inflation (Daily):\")\n",
        "# print(df7.head())\n",
        "\n",
        "# print(\"\\nWTI Oil Price (Daily):\")\n",
        "# print(df8.head())\n",
        "\n",
        "# print(\"\\nGold Price (Daily):\")\n",
        "# print(df9.head())"
      ]
    },
    {
      "cell_type": "markdown",
      "metadata": {
        "id": "xgyTGJJ2ZmCr"
      },
      "source": [
        "### 중요도3.xlsx 파일 파싱하여 매크로변수 추출"
      ]
    },
    {
      "cell_type": "code",
      "execution_count": 4,
      "metadata": {
        "id": "kNuJCCjiXKos"
      },
      "outputs": [],
      "source": [
        "# Excel 파일 경로\n",
        "file_path = './macrovariables/3.xlsx'\n",
        "\n",
        "# Excel 파일 읽기\n",
        "xl = pd.ExcelFile(file_path)\n",
        "\n",
        "# 월별데이터 시트에서 데이터프레임 생성\n",
        "monthly_data = xl.parse('월별데이터')\n",
        "monthly_data['날짜'] = pd.to_datetime(monthly_data['날짜'], format = '%Y/%m')\n",
        "monthly_data.set_index('날짜', inplace = True)\n",
        "\n",
        "# 각 매크로 변수별 데이터프레임 생성\n",
        "df10 = monthly_data[['[미국]실업률[미국_SA]']].rename(columns = {'[미국]실업률[미국_SA]': 'unemployment_rate'})\n",
        "df11 = monthly_data[['[미국]PCE 가격지수 전년대비']].rename(columns = {'[미국]PCE 가격지수 전년대비': 'pce_price_index_yoy'})\n",
        "df12 = monthly_data[['[미국]Core PCE 가격지수 전년대비']].rename(columns = {'[미국]Core PCE 가격지수 전년대비': 'core_pce_price_index_yoy'})\n",
        "df13 = monthly_data[['[미국]비농업부문고용자수']].rename(columns = {'[미국]비농업부문고용자수': 'nonfarm_payroll'})\n",
        "\n",
        "# # 결과 확인\n",
        "# print(\"US Unemployment Rate (Monthly):\")\n",
        "# print(df10.head())\n",
        "\n",
        "# print(\"\\nPCE Price Index YoY (Monthly):\")\n",
        "# print(df11.head())\n",
        "\n",
        "# print(\"\\nCore PCE Price Index YoY (Monthly):\")\n",
        "# print(df12.head())\n",
        "\n",
        "# print(\"\\nNonfarm Payrolls (Monthly):\")\n",
        "# print(df13.head())"
      ]
    },
    {
      "cell_type": "markdown",
      "metadata": {
        "id": "H13HV3icbc-O"
      },
      "source": [
        "- df1 : 미국 신규 실업수당청구건수 (initial_jobless_claim)\n",
        "- df2 : 미국 GDP Now GDP Forecast (gdp_now_forecast)\n",
        "- df3 : 실질 GDP 연율 전기대비 (real_gdp_qoq)\n",
        "- df4 : ISM 제조업지수 (ism_manufacturing)\n",
        "- df5 : ISM 비제조업지수 (ism_nonmanufacturing)\n",
        "- df6 : CPI 원지수 (cpi)\n",
        "- df7 : BEI 기대 인플레이션 (bei_breakeven_inflation)\n",
        "- df8 : WTI 유가 (wti_oil_price)\n",
        "- df9 : 금값 (gold_price)\n",
        "- df10 : 미국 실업률 (unemployment_rate)\n",
        "- df11 : PCE 가격 지수 전년 대비 (pce_price_index_yoy)\n",
        "- df12 : Core PCE 가격 지수 전년 대비 (core_pce_price_index_yoy)\n",
        "- df13 : 비농업부문 고용자수 (nonfarm_payroll)"
      ]
    },
    {
      "cell_type": "markdown",
      "metadata": {
        "id": "PPthB9zwkGD8"
      },
      "source": [
        "# 2. 일별 / 주별 / 분기별 데이터(매크로 변수)를 월말 데이터로 리샘플링, 결측치 채워넣기"
      ]
    },
    {
      "cell_type": "code",
      "execution_count": 5,
      "metadata": {
        "id": "TedQbHzoe6iS"
      },
      "outputs": [],
      "source": [
        "def daily_to_monthly_end(df):\n",
        "    # 인덱스가 날짜인지 확인\n",
        "    if not isinstance(df.index, pd.DatetimeIndex):\n",
        "        df.index = pd.to_datetime(df.index)\n",
        "\n",
        "    # 월의 마지막 날짜 선택\n",
        "    monthly_end = df.resample('M').last()\n",
        "\n",
        "    return monthly_end\n",
        "\n",
        "def weekly_to_monthly_end(df):\n",
        "    # 인덱스가 날짜인지 확인\n",
        "    if not isinstance(df.index, pd.DatetimeIndex):\n",
        "        df.index = pd.to_datetime(df.index)\n",
        "\n",
        "    # 각 데이터 포인트에 해당 월의 마지막 날짜 할당\n",
        "    df['month_end'] = df.index + pd.offsets.MonthEnd(0)\n",
        "\n",
        "    # 월말 기준으로 그룹화하고 마지막 주의 데이터 선택\n",
        "    monthly_end = df.groupby('month_end').last()\n",
        "\n",
        "    return monthly_end\n",
        "\n",
        "def quarterly_to_monthly_end(df):\n",
        "    # 인덱스가 날짜인지 확인\n",
        "    if not isinstance(df.index, pd.DatetimeIndex):\n",
        "        df.index = pd.to_datetime(df.index)\n",
        "\n",
        "    # 월말 날짜로 리샘플링 (forward fill 사용)\n",
        "    monthly_end = df.resample('M').ffill()\n",
        "\n",
        "    return monthly_end"
      ]
    },
    {
      "cell_type": "code",
      "execution_count": null,
      "metadata": {
        "id": "kVQ08f4Hkyom"
      },
      "outputs": [],
      "source": [
        "# 일별 데이터를 월말 데이터로 리샘플링\n",
        "df2 = daily_to_monthly_end(df2)\n",
        "df7 = daily_to_monthly_end(df7)\n",
        "df8 = daily_to_monthly_end(df8)\n",
        "df9 = daily_to_monthly_end(df9)\n",
        "\n",
        "# 주별 데이터를 월말 데이터로 리샘플링\n",
        "df1 = weekly_to_monthly_end(df1)\n",
        "\n",
        "# 분기 데이터를 월말 데이터로 리샘플링\n",
        "df3 = quarterly_to_monthly_end(df3)\n",
        "\n",
        "# 결측치 채우기\n",
        "for df in [df1, df2, df3, df4, df5, df6, df7, df8, df9, df10, df11, df12, df13]:\n",
        "    df.fillna(method='bfill', inplace = True)  # 뒤의 값으로 결측치 채우기\n",
        "    df.fillna(method='ffill', inplace = True)  # 앞의 값으로 남은 결측치 채우기\n",
        "\n",
        "# # 결과 확인\n",
        "# for i, df in enumerate([df1, df2, df3, df4, df5, df6, df7, df8, df9, df10, df11, df12, df13], start=1):\n",
        "#     print(f\"df{i} after filling NaN values:\")\n",
        "#     print(df.head())\n",
        "#     print(f\"Number of remaining NaN values in df{i}: {df.isna().sum().sum()}\")\n",
        "#     print(\"\\n\")"
      ]
    },
    {
      "cell_type": "markdown",
      "metadata": {
        "id": "MgtgSOmFcQsy"
      },
      "source": [
        "# 3. 타겟 ETF(11개) 별 데이터프레임 확인"
      ]
    },
    {
      "cell_type": "code",
      "execution_count": 7,
      "metadata": {
        "id": "gTdnywFtcfWv"
      },
      "outputs": [],
      "source": [
        "# ETF 데이터 불러오기 함수\n",
        "def get_monthly_returns(ticker, start_date, end_date):\n",
        "    stock_data = yf.download(ticker, start = start_date, end = end_date, interval = '1mo')\n",
        "\n",
        "    x = stock_data['Adj Close'].resample('M').last().pct_change().dropna()\n",
        "\n",
        "    x.name = 'Return' # = 수익률\n",
        "\n",
        "    return x"
      ]
    },
    {
      "cell_type": "code",
      "execution_count": 8,
      "metadata": {
        "id": "QTfFGa8lcYmv"
      },
      "outputs": [],
      "source": [
        "ticker_list = ['IWM', 'SPY', 'VTV', 'VUG', 'MTUM', 'QUAL',\n",
        "               'VYMI', 'USMV', 'KBE', 'IYK', 'IYC']\n",
        "\n",
        "start_date = '1940-01-01'\n",
        "end_date = '2024-09-19'"
      ]
    },
    {
      "cell_type": "markdown",
      "metadata": {
        "id": "t8apbR_RrdxH"
      },
      "source": [
        "# 4. 타겟 ETF별(11개), 각 매크로 변수 별(13개) 그레인저 인과성 검정 진행\n",
        "\n",
        "- ETF 하나씩 불러오고, 각 df1, df2, ..., df13 매크로 변수 데이터와 날짜 인덱스 매칭시킴\n",
        "- ETF <-> df1, ETF <-> df2, ..., ETF <-> df13 양방향 그레인저 인과성 검정 수행"
      ]
    },
    {
      "cell_type": "code",
      "execution_count": null,
      "metadata": {
        "colab": {
          "base_uri": "https://localhost:8080/"
        },
        "id": "vgF1WZRnw_JO",
        "outputId": "2a193c55-3530-401b-81d2-1b84a64803ab"
      },
      "outputs": [],
      "source": [
        "# 그레인저 인과성 검정 함수\n",
        "def granger_causality(data, x, y, max_lag=12):\n",
        "    if 'Date' in data.columns:\n",
        "        data['Date'] = pd.to_numeric(data['Date'])\n",
        "\n",
        "    data_diff = data[[y, x]].diff().dropna()\n",
        "\n",
        "    result = grangercausalitytests(data_diff, maxlag = max_lag)\n",
        "    p_values = [round(result[i+1][0]['ssr_ftest'][1], 4) for i in range(max_lag)]\n",
        "    min_p_value = min(p_values)\n",
        "    return min_p_value\n",
        "\n",
        "\n",
        "# 매크로 변수 데이터프레임 리스트\n",
        "macro_dfs = [df1, df2, df3, df4, df5, df6, df7, df8, df9, df10, df11, df12, df13]\n",
        "macro_names = ['df1', 'df2', 'df3', 'df4', 'df5', 'df6', 'df7', 'df8', 'df9', 'df10', 'df11', 'df12', 'df13']\n",
        "\n",
        "# 결과를 저장할 리스트\n",
        "results = []\n",
        "\n",
        "# 각 ETF에 대해 처리\n",
        "for ticker in ticker_list:\n",
        "    etf_data = get_monthly_returns(ticker, start_date, end_date)\n",
        "\n",
        "    # 각 매크로 변수에 대해 처리\n",
        "    for df, factor_name in zip(macro_dfs, macro_names):\n",
        "        # 데이터 정렬 및 결측치 제거\n",
        "        etf_data = etf_data[~etf_data.index.duplicated(keep = 'first')] # 중복 인덱스 제거\n",
        "        df = df[~df.index.duplicated(keep = 'first')] # 중복 인덱스 제거\n",
        "        merged_data = pd.concat([etf_data, df], axis = 1, join='inner').dropna() # 열 단위 병합(axis = 1). 같은 인덱스(같은 날짜) 기준 데이터 JOIN.\n",
        "\n",
        "        if not merged_data.empty:\n",
        "            etf_column = merged_data.columns[0]  # ETF 수익률 (Return)\n",
        "            factor_column = merged_data.columns[1]  # 매크로 변수 (각 매크로 변수명)\n",
        "\n",
        "            # 양방향 그레인저 인과성 검정\n",
        "            p_value_x_to_y = granger_causality(merged_data, factor_column, etf_column)\n",
        "            p_value_y_to_x = granger_causality(merged_data, etf_column, factor_column)\n",
        "\n",
        "            # 그레인저 인과성 여부 판단 (p-value < 0.05)\n",
        "            granger_causality_result = (p_value_x_to_y < 0.05) or (p_value_y_to_x < 0.05)\n",
        "\n",
        "            # 결과 저장\n",
        "            results.append({\n",
        "                'ETF': ticker,\n",
        "                'Factor': factor_name,\n",
        "                'p-value (X->Y)': p_value_x_to_y,\n",
        "                'p-value (Y->X)': p_value_y_to_x,\n",
        "                'Granger Causality': granger_causality_result\n",
        "            })\n",
        "\n",
        "        else:\n",
        "            print(f\"No overlapping data for {ticker} and {factor_name}\")\n",
        "\n",
        "# 결과를 DataFrame으로 변환\n",
        "results_df = pd.DataFrame(results)\n",
        "\n",
        "# CSV 파일로 저장\n",
        "results_df.to_csv('granger_causality_results.csv', index = False)"
      ]
    }
  ],
  "metadata": {
    "colab": {
      "provenance": []
    },
    "kernelspec": {
      "display_name": "Python 3",
      "name": "python3"
    },
    "language_info": {
      "name": "python"
    }
  },
  "nbformat": 4,
  "nbformat_minor": 0
}
