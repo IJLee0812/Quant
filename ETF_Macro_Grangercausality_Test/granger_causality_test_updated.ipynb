{
  "cells": [
    {
      "cell_type": "markdown",
      "metadata": {
        "id": "bMe1MCzIV5rG"
      },
      "source": [
        "# 타겟 ETF(11개) <-> 매크로 변수(13개, df3 제외) 간 그레인저 인과 검정\n",
        "\n",
        "    검정 횟수 : 11 x 13 x 2 - 1차 차분 후에도 정상성 X 데이터 3개 제외 = 283 번.\n",
        "\n",
        "\n",
        "\n",
        "---\n",
        "---\n",
        "---\n",
        "\n",
        "# 1. xlsx 파일 파싱하여 매크로변수 추출"
      ]
    },
    {
      "cell_type": "code",
      "execution_count": 1,
      "metadata": {
        "id": "--zSiYrTWBfu"
      },
      "outputs": [],
      "source": [
        "import calendar\n",
        "import pandas as pd\n",
        "import numpy as np\n",
        "import yfinance as yf\n",
        "import pandas_datareader.data as web\n",
        "from statsmodels.tsa.stattools import adfuller, grangercausalitytests"
      ]
    },
    {
      "cell_type": "markdown",
      "metadata": {
        "id": "FcdVCxwkUdTb"
      },
      "source": [
        "### 중요도1.xlsx 파일 파싱하여 매크로변수 추출"
      ]
    },
    {
      "cell_type": "code",
      "execution_count": 2,
      "metadata": {
        "id": "LKwbZxD4RUP9"
      },
      "outputs": [],
      "source": [
        "def convert_df0_date(date_str):\n",
        "    year, month = map(int, date_str.split(':'))\n",
        "    lastday = calendar.monthrange(year, month)[1] # 해당 월의 월말 일자 구하기\n",
        "    return pd.Timestamp(f'{year}-{month}-{lastday}')\n",
        "\n",
        "# Excel 파일 경로\n",
        "file_path = './1.xlsx'\n",
        "\n",
        "# Excel 파일 읽기\n",
        "xl = pd.ExcelFile(file_path)\n",
        "\n",
        "# 월별 데이터 시트에서 데이터프레임 생성, 날짜 컬럼 전처리(월말로 처리)\n",
        "df0 = xl.parse('월별 데이터')\n",
        "df0.columns = ['date', 'cfna_index']\n",
        "df0['date'] = df0['date'].apply(convert_df0_date)\n",
        "df0.set_index('date', inplace = True)\n",
        "\n",
        "# 주별 데이터 시트에서 데이터프레임 생성\n",
        "df1 = xl.parse('주별 데이터')\n",
        "df1.columns = ['date', 'initial_jobless_claim']\n",
        "df1['date'] = pd.to_datetime(df1['date'])\n",
        "df1.set_index('date', inplace = True)\n",
        "\n",
        "# 일별 데이터 시트에서 데이터프레임 생성\n",
        "df2 = xl.parse('일별 데이터')\n",
        "df2.columns = ['date', 'gdp_now_forecast']\n",
        "df2['date'] = pd.to_datetime(df2['date'])\n",
        "df2.set_index('date', inplace = True)\n",
        "\n",
        "# # 결과 확인\n",
        "# print(\"Chicago Federal National Activity Index (Monthly):\")\n",
        "# print(df0.head())\n",
        "\n",
        "# print(\"Initial Jobless Claims (Weekly):\")\n",
        "# print(df1.head())\n",
        "\n",
        "# print(\"\\nGDP Now Forecast (Daily):\")\n",
        "# print(df2.head())"
      ]
    },
    {
      "cell_type": "markdown",
      "metadata": {
        "id": "whI7tsgzVN_v"
      },
      "source": [
        "### 중요도2.xlsx 파일 파싱하여 매크로변수 추출"
      ]
    },
    {
      "cell_type": "code",
      "execution_count": 3,
      "metadata": {
        "id": "Z4DBHCSYUPtv"
      },
      "outputs": [],
      "source": [
        "# Excel 파일 경로\n",
        "file_path = './2.xlsx'\n",
        "\n",
        "# Excel 파일 읽기\n",
        "xl = pd.ExcelFile(file_path)\n",
        "\n",
        "# 분기별 데이터에서 실질 GDP 연율 전기대비 추출\n",
        "df3 = xl.parse('분기별 데이터')\n",
        "df3.columns = ['date', 'real_gdp_qoq']\n",
        "df3['date'] = pd.to_datetime(df3['date'])\n",
        "df3.set_index('date', inplace = True)\n",
        "\n",
        "# 월별 데이터에서 ISM 제조업지수, ISM 비제조업지수, CPI 추출\n",
        "monthly_data = xl.parse('월별 데이터')\n",
        "monthly_data['날짜'] = pd.to_datetime(monthly_data['날짜'], format = '%Y/%m')\n",
        "monthly_data.set_index('날짜', inplace = True)\n",
        "\n",
        "df4 = monthly_data[['[미국]ISM제조업지수']].rename(columns = {'[미국]ISM제조업지수': 'ism_manufacturing'})\n",
        "df5 = monthly_data[['[미국]ISM비제조업지수']].rename(columns = {'[미국]ISM비제조업지수': 'ism_nonmanufacturing'})\n",
        "df6 = monthly_data[['[미국]CPI(원지수)']].rename(columns = {'[미국]CPI(원지수)': 'cpi'})\n",
        "\n",
        "# 일별 데이터에서 BEI 기대 인플레이션 추출\n",
        "df7 = xl.parse('일별 데이터')\n",
        "df7.columns = ['date', 'bei_breakeven_inflation']\n",
        "df7['date'] = pd.to_datetime(df7['date'])\n",
        "df7.set_index('date', inplace = True)\n",
        "\n",
        "# WTI 유가 추출\n",
        "df8 = xl.parse('WTI')\n",
        "df8.columns = ['date', 'wti_oil_price']\n",
        "df8['date'] = pd.to_datetime(df8['date'])\n",
        "df8.set_index('date', inplace = True)\n",
        "\n",
        "# 금값 추출\n",
        "df9 = xl.parse('금')\n",
        "df9.columns = ['date', 'gold_price']\n",
        "df9['date'] = pd.to_datetime(df9['date'])\n",
        "df9.set_index('date', inplace = True)\n",
        "\n",
        "# # 결과 확인\n",
        "# print(\"Real GDP QoQ (Quarterly):\")\n",
        "# print(df3.head())\n",
        "\n",
        "# print(\"\\nISM Manufacturing (Monthly):\")\n",
        "# print(df4.head())\n",
        "\n",
        "# print(\"\\nISM Non-Manufacturing (Monthly):\")\n",
        "# print(df5.head())\n",
        "\n",
        "# print(\"\\nCPI (Monthly):\")\n",
        "# print(df6.head())\n",
        "\n",
        "# print(\"\\nBEI Breakeven Inflation (Daily):\")\n",
        "# print(df7.head())\n",
        "\n",
        "# print(\"\\nWTI Oil Price (Daily):\")\n",
        "# print(df8.head())\n",
        "\n",
        "# print(\"\\nGold Price (Daily):\")\n",
        "# print(df9.head())"
      ]
    },
    {
      "cell_type": "markdown",
      "metadata": {
        "id": "xgyTGJJ2ZmCr"
      },
      "source": [
        "### 중요도3.xlsx 파일 파싱하여 매크로변수 추출"
      ]
    },
    {
      "cell_type": "code",
      "execution_count": 4,
      "metadata": {
        "id": "kNuJCCjiXKos"
      },
      "outputs": [],
      "source": [
        "# Excel 파일 경로\n",
        "file_path = './3.xlsx'\n",
        "\n",
        "# Excel 파일 읽기\n",
        "xl = pd.ExcelFile(file_path)\n",
        "\n",
        "# 월별데이터 시트에서 데이터프레임 생성\n",
        "monthly_data = xl.parse('월별데이터')\n",
        "monthly_data['날짜'] = pd.to_datetime(monthly_data['날짜'], format = '%Y/%m')\n",
        "monthly_data.set_index('날짜', inplace = True)\n",
        "\n",
        "# 각 매크로 변수별 데이터프레임 생성\n",
        "df10 = monthly_data[['[미국]실업률[미국_SA]']].rename(columns = {'[미국]실업률[미국_SA]': 'unemployment_rate'})\n",
        "df11 = monthly_data[['[미국]PCE 가격지수 전년대비']].rename(columns = {'[미국]PCE 가격지수 전년대비': 'pce_price_index_yoy'})\n",
        "df12 = monthly_data[['[미국]Core PCE 가격지수 전년대비']].rename(columns = {'[미국]Core PCE 가격지수 전년대비': 'core_pce_price_index_yoy'})\n",
        "df13 = monthly_data[['[미국]비농업부문고용자수']].rename(columns = {'[미국]비농업부문고용자수': 'nonfarm_payroll'})\n",
        "\n",
        "# # 결과 확인\n",
        "# print(\"US Unemployment Rate (Monthly):\")\n",
        "# print(df10.head())\n",
        "\n",
        "# print(\"\\nPCE Price Index YoY (Monthly):\")\n",
        "# print(df11.head())\n",
        "\n",
        "# print(\"\\nCore PCE Price Index YoY (Monthly):\")\n",
        "# print(df12.head())\n",
        "\n",
        "# print(\"\\nNonfarm Payrolls (Monthly):\")\n",
        "# print(df13.head())"
      ]
    },
    {
      "cell_type": "markdown",
      "metadata": {
        "id": "H13HV3icbc-O"
      },
      "source": [
        "- df0 : 시카고 연은 국가활동지수 (cfna_index)\n",
        "- df1 : 미국 신규 실업수당청구건수 (initial_jobless_claim)\n",
        "- df2 : 미국 GDP Now GDP Forecast (gdp_now_forecast)\n",
        "- df3 : 실질 GDP 연율 전기대비 (real_gdp_qoq)\n",
        "- df4 : ISM 제조업지수 (ism_manufacturing)\n",
        "- df5 : ISM 비제조업지수 (ism_nonmanufacturing)\n",
        "- df6 : CPI 원지수 (cpi)\n",
        "- df7 : BEI 기대 인플레이션 (bei_breakeven_inflation)\n",
        "- df8 : WTI 유가 (wti_oil_price)\n",
        "- df9 : 금값 (gold_price)\n",
        "- df10 : 미국 실업률 (unemployment_rate)\n",
        "- df11 : PCE 가격 지수 전년 대비 (pce_price_index_yoy)\n",
        "- df12 : Core PCE 가격 지수 전년 대비 (core_pce_price_index_yoy)\n",
        "- df13 : 비농업부문 고용자수 (nonfarm_payroll)"
      ]
    },
    {
      "cell_type": "markdown",
      "metadata": {
        "id": "PPthB9zwkGD8"
      },
      "source": [
        "# 2. 일별 / 주별 / 분기별 데이터(매크로 변수)를 월말 데이터로 리샘플링, 결측치 채워넣기"
      ]
    },
    {
      "cell_type": "code",
      "execution_count": 5,
      "metadata": {
        "id": "TedQbHzoe6iS"
      },
      "outputs": [],
      "source": [
        "def daily_to_monthly_end(df):\n",
        "    # 인덱스가 날짜인지 확인\n",
        "    if not isinstance(df.index, pd.DatetimeIndex):\n",
        "        df.index = pd.to_datetime(df.index)\n",
        "\n",
        "    # 월의 마지막 날짜 선택\n",
        "    monthly_end = df.resample('M').last()\n",
        "\n",
        "    return monthly_end\n",
        "\n",
        "def weekly_to_monthly_end(df):\n",
        "    # 인덱스가 날짜인지 확인\n",
        "    if not isinstance(df.index, pd.DatetimeIndex):\n",
        "        df.index = pd.to_datetime(df.index)\n",
        "\n",
        "    # 각 데이터 포인트에 해당 월의 마지막 날짜 할당\n",
        "    df['month_end'] = df.index + pd.offsets.MonthEnd(0)\n",
        "\n",
        "    # 월말 기준으로 그룹화하고 마지막 주의 데이터 선택\n",
        "    monthly_end = df.groupby('month_end').last()\n",
        "\n",
        "    return monthly_end\n",
        "\n",
        "def quarterly_to_monthly_end(df):\n",
        "    # 인덱스가 날짜인지 확인\n",
        "    if not isinstance(df.index, pd.DatetimeIndex):\n",
        "        df.index = pd.to_datetime(df.index)\n",
        "\n",
        "    # 월말 날짜로 리샘플링 (forward fill 사용)\n",
        "    monthly_end = df.resample('M').ffill()\n",
        "\n",
        "    return monthly_end"
      ]
    },
    {
      "cell_type": "code",
      "execution_count": null,
      "metadata": {
        "id": "kVQ08f4Hkyom"
      },
      "outputs": [],
      "source": [
        "# 일별 데이터를 월말 데이터로 리샘플링\n",
        "df2 = daily_to_monthly_end(df2)\n",
        "df7 = daily_to_monthly_end(df7)\n",
        "df8 = daily_to_monthly_end(df8)\n",
        "df9 = daily_to_monthly_end(df9)\n",
        "\n",
        "# 주별 데이터를 월말 데이터로 리샘플링\n",
        "df1 = weekly_to_monthly_end(df1)\n",
        "\n",
        "# 분기 데이터를 월말 데이터로 리샘플링\n",
        "df3 = quarterly_to_monthly_end(df3)\n",
        "\n",
        "# 결측치 채우기\n",
        "for df in [df0, df1, df2, df3, df4, df5, df6, df7, df8, df9, df10, df11, df12, df13]:\n",
        "    df.fillna(method='bfill', inplace = True)  # 뒤의 값으로 결측치 채우기\n",
        "    df.fillna(method='ffill', inplace = True)  # 앞의 값으로 남은 결측치 채우기\n",
        "\n",
        "# # 결과 확인\n",
        "# for i, df in enumerate([df0, df1, df2, df3, df4, df5, df6, df7, df8, df9, df10, df11, df12, df13], start=1):\n",
        "#     print(f\"df{i} after filling NaN values:\")\n",
        "#     print(df.head())\n",
        "#     print(f\"Number of remaining NaN values in df{i}: {df.isna().sum().sum()}\")\n",
        "#     print(\"\\n\")"
      ]
    },
    {
      "cell_type": "markdown",
      "metadata": {
        "id": "MgtgSOmFcQsy"
      },
      "source": [
        "# 3. 타겟 ETF(11개) 별 데이터프레임 추출"
      ]
    },
    {
      "cell_type": "code",
      "execution_count": 7,
      "metadata": {
        "id": "gTdnywFtcfWv"
      },
      "outputs": [],
      "source": [
        "# ETF 데이터 불러오기 함수\n",
        "def get_monthly_returns(ticker, start_date, end_date):\n",
        "    stock_data = yf.download(ticker, start = start_date, end = end_date, interval = '1mo')\n",
        "\n",
        "    x = stock_data['Close'].resample('ME').last().pct_change().dropna() # 조정 종가(Adj Close) -> 일반종가(Close)로 변경\n",
        "\n",
        "    x.name = 'Return' # = 수익률\n",
        "\n",
        "    return x"
      ]
    },
    {
      "cell_type": "code",
      "execution_count": 8,
      "metadata": {
        "id": "QTfFGa8lcYmv"
      },
      "outputs": [],
      "source": [
        "ticker_list = ['IWM', 'SPY', 'VTV', 'VUG', 'MTUM', 'QUAL',\n",
        "               'VYMI', 'USMV', 'KBE', 'IYK', 'IYC']\n",
        "\n",
        "start_date = '1940-01-01'\n",
        "end_date = '2024-09-19'"
      ]
    },
    {
      "cell_type": "markdown",
      "metadata": {
        "id": "t8apbR_RrdxH"
      },
      "source": [
        "# 4. 타겟 ETF별(11개), 각 매크로 변수 별(13개) 그레인저 인과성 검정 진행\n",
        "\n",
        "- ETF 하나씩 불러오고, 각 df0, df1, df2, ..., df13 매크로 변수 데이터와 날짜 인덱스 매칭시킴\n",
        "- ETF <-> df0, ETF <-> df1, ETF <-> df2, ..., ETF <-> df13 양방향 그레인저 인과성 검정 수행"
      ]
    },
    {
      "cell_type": "code",
      "execution_count": null,
      "metadata": {
        "colab": {
          "base_uri": "https://localhost:8080/"
        },
        "id": "vgF1WZRnw_JO",
        "outputId": "8bcf661e-765a-422e-92d3-b1550cc8261b"
      },
      "outputs": [],
      "source": [
        "import pandas as pd\n",
        "from statsmodels.tsa.stattools import adfuller, grangercausalitytests\n",
        "\n",
        "# ADF 테스트 함수\n",
        "def adf_test(series, signif=0.05):\n",
        "    result = adfuller(series.dropna(), autolag='AIC')\n",
        "    p_value = result[1]\n",
        "    if p_value < signif:\n",
        "        return True  # 정상성 있음\n",
        "    else:\n",
        "        return False  # 정상성 없음\n",
        "\n",
        "# 차분 함수\n",
        "def difference(series):\n",
        "    return series.diff().dropna()\n",
        "\n",
        "# 그레인저 인과성 검정 함수\n",
        "def granger_causality(data, x_column, y_column, max_lag=4):\n",
        "    data = data.replace([np.inf, -np.inf], np.nan).dropna() # NaN 또는 inf 값을 제거\n",
        "    result = grangercausalitytests(data[[y_column, x_column]], max_lag)\n",
        "    p_values = [round(test[0]['ssr_ftest'][1], 4) for test in result.values()]\n",
        "    return min(p_values)\n",
        "\n",
        "# 매크로 변수와 ETF 데이터 로드\n",
        "# (df0, df1, df2, ..., df13 : 13개의 매크로 변수(df3 보류), ticker_list : 11개의 ETF 리스트)\n",
        "macro_dfs = [df0, df1, df2, df4, df5, df6, df7, df8, df9, df10, df11, df12, df13]\n",
        "macro_names = [\n",
        "    'cfna_index',\n",
        "    'initial_jobless_claim',\n",
        "    'gdp_now_forecast',\n",
        "    'ism_manufacturing',\n",
        "    'ism_nonmanufacturing',\n",
        "    'cpi',\n",
        "    'bei_breakeven_inflation',\n",
        "    'wti_oil_price',\n",
        "    'gold_price',\n",
        "    'unemployment_rate',\n",
        "    'pce_price_index_yoy',\n",
        "    'core_pce_price_index_yoy',\n",
        "    'nonfarm_payroll'\n",
        "]\n",
        "\n",
        "# 결과를 저장할 리스트\n",
        "results = []\n",
        "\n",
        "# 각 ETF에 대해 처리\n",
        "for ticker in ticker_list:\n",
        "    etf_data = get_monthly_returns(ticker, start_date, end_date)\n",
        "\n",
        "    # ETF 정상성 검정 (ADF 테스트)\n",
        "    if not adf_test(etf_data):\n",
        "        etf_data = difference(etf_data)  # 차분 후 정상성 재검정\n",
        "        if not adf_test(etf_data):\n",
        "            print(f\"ETF {ticker}가 차분 후에도 정상성을 만족하지 않습니다.\")\n",
        "            continue\n",
        "\n",
        "    # 각 매크로 변수에 대해 처리\n",
        "    for df, factor_name in zip(macro_dfs, macro_names):\n",
        "        # 데이터 정렬 및 결측치 제거\n",
        "        etf_data = etf_data[~etf_data.index.duplicated(keep='first')]  # 중복 인덱스 제거\n",
        "        df = df[~df.index.duplicated(keep='first')]  # 중복 인덱스 제거\n",
        "        merged_data = pd.concat([etf_data, df], axis=1, join='inner').dropna()  # 열 단위 병합(axis=1), 같은 인덱스 기준 데이터 JOIN\n",
        "\n",
        "        if not merged_data.empty:\n",
        "            etf_column = merged_data.columns[0]  # ETF 수익률 (Return)\n",
        "            factor_column = merged_data.columns[1]  # 매크로 변수 (각 매크로 변수명)\n",
        "\n",
        "            # 매크로 변수의 정상성 검정 (ADF 테스트)\n",
        "            if not adf_test(merged_data[factor_column]):\n",
        "                merged_data[factor_column] = difference(merged_data[factor_column])  # 차분 후 정상성 재검정\n",
        "                if not adf_test(merged_data[factor_column]):\n",
        "                    print(f\"매크로 변수 {factor_name}가 차분 후에도 정상성을 만족하지 않습니다.\")\n",
        "                    continue\n",
        "\n",
        "            # 그레인저 인과성 검정\n",
        "            p_value_x_to_y = granger_causality(merged_data, factor_column, etf_column)\n",
        "            p_value_y_to_x = granger_causality(merged_data, etf_column, factor_column)\n",
        "\n",
        "            # 그레인저 인과성 여부 판단 및 결과 처리\n",
        "            if p_value_x_to_y < 0.05 and p_value_y_to_x >= 0.05:\n",
        "                granger_causality_result = 'X -> Y'\n",
        "            elif p_value_y_to_x < 0.05 and p_value_x_to_y >= 0.05:\n",
        "                granger_causality_result = 'Y -> X'\n",
        "            elif p_value_x_to_y < 0.05 and p_value_y_to_x < 0.05:\n",
        "                granger_causality_result = 'X <-> Y'\n",
        "            else:\n",
        "                granger_causality_result = 'FALSE'\n",
        "\n",
        "            # 결과 저장\n",
        "            results.append({\n",
        "                'ETF': ticker,\n",
        "                'Factor': factor_name,\n",
        "                'p-value (X->Y)': p_value_x_to_y,\n",
        "                'p-value (Y->X)': p_value_y_to_x,\n",
        "                'Granger Causality': granger_causality_result\n",
        "            })\n",
        "\n",
        "        else:\n",
        "            print(f\"No overlapping data for {ticker} and {factor_name}\")\n",
        "\n",
        "# 결과를 DataFrame으로 변환\n",
        "results_df = pd.DataFrame(results)\n",
        "\n",
        "# CSV 파일로 저장\n",
        "results_df.to_csv('granger_causality_results_with_adf.csv', index=False)"
      ]
    },
    {
      "cell_type": "markdown",
      "metadata": {
        "id": "hnc84HACOXuR"
      },
      "source": [
        "### 결과\n",
        "- 모든 매크로 변수 및 ETF 쌍에 대하여 ADF 테스트 진행, 정상성이 만족되는지 확인\n",
        "- 정상성이 만족되지 않는 데이터는 '1차 차분(differencing)'을 수행한 뒤 정상성을 만족시키는지 ADF 테스트 재진행 -> 여전히 만족시키지 못하는 매크로 변수 '3개' 제외한 283번 검정이 이루어짐\n",
        "(보통 2차 차분까지는 잘 쓰이지 않으므로 생략)\n",
        "\n",
        "<br>\n",
        "\n",
        "---\n",
        "\n",
        "<br>\n",
        "\n",
        "**정상성을 만족하지 못한 매크로 변수(3개)**\n",
        "\n",
        "1. QUAL <-> cpi 쌍에서 cpi가 정상성을 만족하지 않았음.\n",
        "2. VYMI <-> cpi 쌍에서 cpi가 정상성을 만족하지 않았음.\n",
        "3. VYMI <-> core_pce_price_index_yoy 쌍에서 core_pce_price_index_yoy가 정상성을 만족하지 않았음.\n",
        "\n"
      ]
    }
  ],
  "metadata": {
    "colab": {
      "provenance": []
    },
    "kernelspec": {
      "display_name": "Python 3",
      "name": "python3"
    },
    "language_info": {
      "name": "python"
    }
  },
  "nbformat": 4,
  "nbformat_minor": 0
}
