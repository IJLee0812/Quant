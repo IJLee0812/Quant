{
  "cells": [
    {
      "cell_type": "markdown",
      "metadata": {
        "id": "_B3CgIpgC3YL"
      },
      "source": [
        "# QQQ/SCHD **동적** 자산분배 포트폴리오 수익률 분석 백테스팅\n",
        "\n",
        "### 동적자산분배로 주가가 오르는 추세면 더 많이 사고 떨어지면 비중을 줄이면서 CAGR은 더 높이고, MDD는 더 낮출 수 있는지 확인하고자 한다.\n",
        "\n",
        "- QQQ(ETF) : 나스닥 상장주 중 금융주 제외 상위 100종목을 추종\n",
        "\n",
        "- SCHD(ETF) : 다우존스 Dividend 100 INDEX를 기초자산으로 추종(배당금 지급 미국 주식 100개의 시총 지수 추종)\n",
        "\n",
        "- CAGR 및 MDD : 연평균 성장률 / 최대 낙폭\n",
        "\n",
        "<br>\n",
        "\n",
        "### 2011/11 ~ 2024/07 QQQ + SCHD 분할매수 백테스팅\n",
        "\n",
        "- 동적자산분배 기법 적용 시 수익률 분석\n",
        "\n",
        "> Reference : https://dotsnlines.tistory.com/1107\n",
        "\n",
        "<br>\n",
        "\n",
        "### 조건\n",
        "1. QQQ와 SCHD를 ***평균모멘텀스코어***를 통해 비중을 매월 리밸런싱한다.(기존 정적자산분배 시 8:2 ~ 2:8로 수행함)\n",
        "2. 초기자산은 100,000,000원 = 약 73,000달러이며 매월 1,000,000원 = 약 730달러씩 추가금을 투입한다. (리밸런싱은 추가금이 투입된 기준으로 수행됨)\n",
        "3. 배당수익은 재투자를 가정한다.\n",
        "4. 매매수수료 0.25%, 배당소득세 15.4%를 반영한다.\n",
        "5. 기간은 QQQ와 SCHD 중 상장일이 더 늦은 자산을 기준으로(데이터 로딩 이슈) 2024/7/31(7월 마지막 영업일) 까지로 설정됐다.\n",
        "6. 연도별 손익을 합쳐서 250만원이 넘는 금액에 대해서는 22% 세금(= 양도소득세, 미국 ETF)을 제하고 마지막 날 자산을 조정한다.\n",
        "\n",
        "<br>\n",
        "\n",
        "### 평균 모멘텀 스코어\n",
        "- 주식에도 관성이 있다고 가정하고, 주식이 오를 때는 비중을 증가시키고 / 떨어질 때는 비중을 감소시키는 방법이다.\n",
        "\n",
        "- 과거 12개월동안의 주가변화를 계산하여 올랐을 때는 1 / 내렸을 때는 0을 부여한다. -> 합계를 12로 나눠주면 그 값이 자산의 비중이 된다.\n",
        "\n",
        "- 매월 평균모멘텀스코어를 계산하기 때문에 매월 분할비중이 달라지게 된다."
      ]
    },
    {
      "cell_type": "markdown",
      "metadata": {
        "id": "NbEOjXXGeCd2"
      },
      "source": [
        "---\n",
        "\n",
        "---\n",
        "\n",
        "---"
      ]
    },
    {
      "cell_type": "markdown",
      "metadata": {
        "id": "3ajxSqq7ctni"
      },
      "source": [
        "## I. 필요 라이브러리 호출 및 함수 정의, 초기 세팅"
      ]
    },
    {
      "cell_type": "markdown",
      "metadata": {
        "id": "-rLcaBVpc1rc"
      },
      "source": [
        "### 라이브러리 호출"
      ]
    },
    {
      "cell_type": "code",
      "execution_count": 1,
      "metadata": {
        "id": "BCvFKeYPC0ve"
      },
      "outputs": [],
      "source": [
        "import pandas as pd\n",
        "import yfinance as yf\n",
        "import numpy as np\n",
        "import matplotlib.pyplot as plt\n",
        "from pandas_datareader import data as pdr\n",
        "from datetime import datetime\n",
        "pd.options.display.float_format = '{:,.2f}'.format"
      ]
    },
    {
      "cell_type": "markdown",
      "metadata": {
        "id": "v7l81irOJ5ZV"
      },
      "source": [
        "### 초기 세팅"
      ]
    },
    {
      "cell_type": "code",
      "execution_count": 2,
      "metadata": {
        "id": "ZgJ00a9pJ60s"
      },
      "outputs": [],
      "source": [
        "# - - - Parameters - - - - -\n",
        "p1 = 'QQQ' ; p2 = 'SCHD'\n",
        "\n",
        "p1비율 = 0.5 # 초기(약 1억 원) 투자자산 배분비율, 이후 평균모멘텀스코어에 따른 동적배분 시행\n",
        "\n",
        "매매수수료 = 0.0025 # (0.25%)\n",
        "배당소득세 = 0.154 # (15.4%)\n",
        "연간양도세율 = 0.22\n",
        "양도소득세적용여부 = 1\n",
        "\n",
        "moment_months = 12 # 모멘텀 계산 주기설정(12개월 = 1년)\n",
        "\n",
        "start = datetime(2011, 1, 1)\n",
        "end = datetime(2024, 8, 1)\n",
        "\n",
        "초기투자금 = int(100000000 / 1150) # 분석 시작일인 2011년 11월 초 환율 약 1150원을 반영\n",
        "매월투자금 = int(1000000 / 1150)"
      ]
    },
    {
      "cell_type": "markdown",
      "metadata": {
        "id": "ojXhxvSBJ24q"
      },
      "source": [
        "### 각 ticker의 배당금($) 구하는 메소드"
      ]
    },
    {
      "cell_type": "code",
      "execution_count": 3,
      "metadata": {
        "id": "dASmJKCsceW7"
      },
      "outputs": [],
      "source": [
        "def get_div(p):\n",
        "    ticker = yf.Ticker(p)\n",
        "    div = ticker.dividends.tz_localize(None)\n",
        "    return div"
      ]
    },
    {
      "cell_type": "markdown",
      "metadata": {
        "id": "PBO5wN9GTu3i"
      },
      "source": [
        "### 각 ETF의 주가, 환율을 데이터프레임화하는 메소드"
      ]
    },
    {
      "cell_type": "code",
      "execution_count": 4,
      "metadata": {
        "id": "3StokrBQTswg"
      },
      "outputs": [],
      "source": [
        "def get_data(p1, p2, start, end):\n",
        "    df1 = yf.download(p1, start, end)\n",
        "    df1.rename(columns = {'Adj Close' : 'QQQ 주가'}, inplace = True)\n",
        "\n",
        "    df2 = yf.download(p2, start, end)\n",
        "    df2.rename(columns = {'Adj Close' : 'SCHD 주가'}, inplace = True)\n",
        "\n",
        "    df_ex = yf.download('KRW=X', start, end) # 환율 데이터 추가(연도별 환율 변동 고려)\n",
        "    df_ex.rename(columns = {'Adj Close' : '환율'}, inplace = True)\n",
        "\n",
        "    df = pd.merge(df1['QQQ 주가'], df2['SCHD 주가'], left_index = True, right_index = True, how = 'inner')\n",
        "    df = pd.merge(df, df_ex['환율'], left_index = True, right_index = True)\n",
        "\n",
        "    return df"
      ]
    },
    {
      "cell_type": "markdown",
      "metadata": {
        "id": "BhgJXG0Ib0qh"
      },
      "source": [
        "### QQQ, SCHD 데이터프레임 생성 및 배당금 concat 메소드\n",
        "- 배당금 적용 가정\n",
        "- 기 정의한 메소드들(get_data, get_div) 사용, 최종 데이터프레임 도출"
      ]
    },
    {
      "cell_type": "code",
      "execution_count": 5,
      "metadata": {
        "id": "16CGxwMMb4MY"
      },
      "outputs": [],
      "source": [
        "def merge_div(p1, p2, start, end):\n",
        "    df = get_data(p1, p2, start, end)\n",
        "    div1 = get_div(p1)\n",
        "    div2 = get_div(p2)\n",
        "\n",
        "    df['QQQ 배당금'] = div1\n",
        "    df['SCHD 배당금'] = div2\n",
        "\n",
        "    df.fillna(0, inplace = True) # 배당금 미지급일의 NaN 표시(결측치)를 0으로 대치\n",
        "\n",
        "    return df"
      ]
    },
    {
      "cell_type": "markdown",
      "metadata": {
        "id": "DaqEpd6jdP--"
      },
      "source": [
        "### 월말 날짜만 가져오는 메소드(평균 모멘텀 스코어 도출 시 사용)"
      ]
    },
    {
      "cell_type": "code",
      "execution_count": 6,
      "metadata": {
        "id": "K9KcT8HqdWKw"
      },
      "outputs": [],
      "source": [
        "def get_monthly_end(df_d):\n",
        "    df_copy = df_d.copy() # shallow copy 방지를 위한 copy() 메소드 사용\n",
        "    df_copy['Odate'] = df_copy.index\n",
        "    df = df_copy.groupby(by = [df_copy.index.year, df_copy.index.month]).last()\n",
        "    df.set_index('Odate', inplace = True)\n",
        "    return df"
      ]
    },
    {
      "cell_type": "markdown",
      "metadata": {
        "id": "vRqmYkXXeXMd"
      },
      "source": [
        "### 평균 모멘텀 스코어 구하는 메소드\n",
        "- 실제투자금 합계 x 평균모멘텀스코어(0 ~ 1) 만큼 QQQ에 투자\n",
        "- 실제투자금합계 x (1 - 평균모멘텀스코어) = 실제투자금합계 - QQQ투자금 만큼 SCHD에 투자"
      ]
    },
    {
      "cell_type": "code",
      "execution_count": 7,
      "metadata": {
        "id": "TnNCQnuGeZ6l"
      },
      "outputs": [],
      "source": [
        "def momentum_score(df_d, moment_months):\n",
        "    mm = int(moment_months)\n",
        "    df = get_monthly_end(df_d)\n",
        "    li_score = []\n",
        "    li_tscore = [] # 현금 제외 자산의 합에 대한 비율\n",
        "\n",
        "    for i in range(len(df)): # 한 달 단위로 모멘텀스코어 도출하기\n",
        "        if i < mm - 1:\n",
        "            li_score.append(0)\n",
        "            li_tscore.append(0)\n",
        "\n",
        "        else:\n",
        "            tval = 0\n",
        "            val = 0\n",
        "\n",
        "            for m in range(1, mm + 1):\n",
        "                if ((df['QQQ 주가'].iloc[i] + df['SCHD 주가'].iloc[i]) - (df['QQQ 주가'].iloc[i - 1] + df['SCHD 주가'].iloc[i - 1])) > 0:\n",
        "                    tval += 1\n",
        "\n",
        "                if (df['QQQ 주가'].iloc[i] - df['QQQ 주가'].iloc[i - m]) > 0:\n",
        "                    val += 1 # 합계 x 평균모멘텀스코어 만큼 QQQ에 투자, 합계 x (1 - 평균모멘텀스코어) 만큼 SCHD에 투자\n",
        "\n",
        "            li_score.append(val / mm)\n",
        "            li_tscore.append(tval / mm)\n",
        "\n",
        "    df['투자모멘텀스코어'] = li_tscore\n",
        "    df['평균모멘텀스코어'] = li_score\n",
        "    df = df[['투자모멘텀스코어', '평균모멘텀스코어']]\n",
        "    return df"
      ]
    },
    {
      "cell_type": "markdown",
      "metadata": {
        "id": "gL4BNtuAjina"
      },
      "source": [
        "### MDD, CAGR 구하는 메소드"
      ]
    },
    {
      "cell_type": "code",
      "execution_count": 8,
      "metadata": {
        "id": "vQtzAXw3jm0F"
      },
      "outputs": [],
      "source": [
        "def get_mdd(col):\n",
        "    window = 252 # (1년 = 영업일 기준 252일로 고려)\n",
        "\n",
        "    # col의 각 시점에서 과거 252일동안의 최고점 계산\n",
        "    # min_periods = 1은 최소 기간을 1일로 설정하여, 초기 몇 기간 동안 데이터가 불충분할 때도 계산가능하도록 함\n",
        "    peak = col.rolling(window, min_periods = 1).max()\n",
        "\n",
        "    # 각 시점에서의 최고점 대비 현재 가격이 얼마나 하락했는지를 백분율로 나타냄\n",
        "    drawdown = col / peak - 1\n",
        "\n",
        "    # 과거 252일 동안의 drawdown 최솟값(최대 하락률) 계산\n",
        "    연도별mdd = drawdown.rolling(window, min_periods = 1).min()\n",
        "    # \"전체 기간\" 고려한 최종 mdd 리턴\n",
        "    mdd = 연도별mdd.min()\n",
        "    return mdd\n",
        "\n",
        "def get_cagr(df, col):\n",
        "    start_value = df[col].iloc[0]\n",
        "    end_value = df[col].iloc[-1]\n",
        "    num_years = df.index[-1].year - df.index[0].year\n",
        "\n",
        "    cagr = (end_value / start_value) ** (1 / num_years) - 1 # CAGR 공식\n",
        "    return cagr"
      ]
    },
    {
      "cell_type": "markdown",
      "metadata": {
        "id": "xlc14cN7dEr5"
      },
      "source": [
        "---\n",
        "\n",
        "---\n",
        "\n",
        "---"
      ]
    },
    {
      "cell_type": "markdown",
      "metadata": {
        "id": "ftxsWz-ydYzK"
      },
      "source": [
        "## II. main() 소스코드 : 실제 분석 진행 섹션"
      ]
    },
    {
      "cell_type": "markdown",
      "metadata": {
        "id": "h6XJHR1XX1tJ"
      },
      "source": [
        "\n",
        "### 1. 세금 계산을 위해 년도 별 마지막 날 구하기\n",
        "- df_y : li_lastdays(년도별 마지막 날이 담긴 리스트) 생성을 위한 temp df"
      ]
    },
    {
      "cell_type": "code",
      "execution_count": 9,
      "metadata": {
        "colab": {
          "base_uri": "https://localhost:8080/"
        },
        "id": "bf1zGw10X5b_",
        "outputId": "adfceda3-539b-40e3-c0f5-b2e30164d12f"
      },
      "outputs": [
        {
          "name": "stderr",
          "output_type": "stream",
          "text": [
            "[*********************100%%**********************]  1 of 1 completed\n",
            "[*********************100%%**********************]  1 of 1 completed\n",
            "[*********************100%%**********************]  1 of 1 completed"
          ]
        },
        {
          "name": "stdout",
          "output_type": "stream",
          "text": [
            "\n",
            " 2011-12-30 00:00:00 2024-07-31 00:00:00\n"
          ]
        },
        {
          "name": "stderr",
          "output_type": "stream",
          "text": [
            "\n"
          ]
        }
      ],
      "source": [
        "df_y = get_data(p1, p2, start, end)\n",
        "df_y['date'] = df_y.index\n",
        "df_y = df_y.groupby(by = df_y.index.year).last() # 매년 마지막 날(year에 last() 메소드 적용)로 grouping\n",
        "\n",
        "li_lastdays = df_y['date'].to_list() # 날짜 컬럼을 리스트화\n",
        "\n",
        "print('\\n', li_lastdays[0], li_lastdays[-1])"
      ]
    },
    {
      "cell_type": "markdown",
      "metadata": {
        "id": "JMPTK_HuZ74_"
      },
      "source": [
        "### 2. QQQ / SCHD 주가, 환율, 배당금 데이터를 데이터프레임으로 불러들이기"
      ]
    },
    {
      "cell_type": "code",
      "execution_count": 10,
      "metadata": {
        "colab": {
          "base_uri": "https://localhost:8080/"
        },
        "id": "JNseiIE9Z3vS",
        "outputId": "835dabe4-5e06-4965-9b3d-e53cc744f973"
      },
      "outputs": [
        {
          "name": "stderr",
          "output_type": "stream",
          "text": [
            "[*********************100%%**********************]  1 of 1 completed\n",
            "[*********************100%%**********************]  1 of 1 completed\n",
            "[*********************100%%**********************]  1 of 1 completed\n"
          ]
        },
        {
          "name": "stdout",
          "output_type": "stream",
          "text": [
            "            QQQ 주가  SCHD 주가       환율  QQQ 배당금  SCHD 배당금\n",
            "Date                                                   \n",
            "2011-10-20   50.32    16.85 1,133.60     0.00      0.00\n",
            "2011-10-21   50.95    17.18 1,137.30     0.00      0.00\n",
            "2011-10-24   52.00    17.27 1,148.40     0.00      0.00\n",
            "2011-10-25   50.98    16.99 1,132.80     0.00      0.00\n",
            "2011-10-26   50.92    17.16 1,131.10     0.00      0.00\n"
          ]
        }
      ],
      "source": [
        "df = merge_div(p1, p2, start, end)\n",
        "print(df.head())"
      ]
    },
    {
      "cell_type": "markdown",
      "metadata": {
        "id": "Ym-h91Qyk-F-"
      },
      "source": [
        "### 3. 월말투자금 넣기, 투자금 column을 데이터프레임에 추가\n",
        "- df_m : 월말투자를 고려해서 li_monthlast 리스트로 매월 마지막 날을 추출하기 위한 temp df"
      ]
    },
    {
      "cell_type": "code",
      "execution_count": 11,
      "metadata": {
        "colab": {
          "base_uri": "https://localhost:8080/"
        },
        "collapsed": true,
        "id": "KJmfovTkaY0f",
        "outputId": "17afb565-f96b-4d8f-d9ae-960a812f8c6a"
      },
      "outputs": [
        {
          "name": "stdout",
          "output_type": "stream",
          "text": [
            "2011-10-31 00:00:00\n",
            "2024-07-31 00:00:00\n"
          ]
        }
      ],
      "source": [
        "# 월말투자금 넣기 위한 월말 정보 리스트 생성\n",
        "df_m = df.copy() # shallow copy 방지를 위한 copy() 메소드 사용이 필수임.\n",
        "df_m['date'] = df_m.index\n",
        "df_m = df_m.groupby(by = [df.index.year, df.index.month]).last() # 매월 마지막 날만 필터링\n",
        "\n",
        "li_monthlast = df_m['date'].to_list() # 리스트화(매월 마지막날이 저장됨)\n",
        "\n",
        "print(li_monthlast[0]) ; print(li_monthlast[len(li_monthlast) - 1]) # 시작월 / 종료월 월말 리스트 원소 확인"
      ]
    },
    {
      "cell_type": "code",
      "execution_count": 12,
      "metadata": {
        "id": "xMtOMN38k79L"
      },
      "outputs": [],
      "source": [
        "# 투자금 column 데이터프레임에 추가\n",
        "df['투자금'] = 0 # 투자금 열 추가 생성 및 초기화\n",
        "\n",
        "for i, m in enumerate(li_monthlast):\n",
        "    if i == 0:\n",
        "        df.loc[m, '투자금'] = 초기투자금 # 1억 원\n",
        "    else:\n",
        "        df.loc[m, '투자금'] = 매월투자금 # 100만 원"
      ]
    },
    {
      "cell_type": "code",
      "execution_count": 13,
      "metadata": {
        "colab": {
          "base_uri": "https://localhost:8080/"
        },
        "id": "C1mi1caiq9WB",
        "outputId": "a53bbf82-e1f3-4cc8-a71d-a91485432e70"
      },
      "outputs": [
        {
          "name": "stdout",
          "output_type": "stream",
          "text": [
            "            QQQ 주가  SCHD 주가       환율  QQQ 배당금  SCHD 배당금    투자금\n",
            "Date                                                          \n",
            "2011-10-20   50.32    16.85 1,133.60     0.00      0.00      0\n",
            "2011-10-21   50.95    17.18 1,137.30     0.00      0.00      0\n",
            "2011-10-24   52.00    17.27 1,148.40     0.00      0.00      0\n",
            "2011-10-25   50.98    16.99 1,132.80     0.00      0.00      0\n",
            "2011-10-26   50.92    17.16 1,131.10     0.00      0.00      0\n",
            "2011-10-27   52.32    17.56 1,130.70     0.00      0.00      0\n",
            "2011-10-28   52.40    17.54 1,106.30     0.00      0.00      0\n",
            "2011-10-31   51.52    17.20 1,104.00     0.00      0.00  86956\n"
          ]
        }
      ],
      "source": [
        "print(df.head(8)) # 11년 10월 말 초기투자금 1억 원(약 87,000 달러) 투입"
      ]
    },
    {
      "cell_type": "markdown",
      "metadata": {
        "id": "yjWbrxFvmPv1"
      },
      "source": [
        "### 4. 데이터프레임에 모멘텀스코어 및 적립식 투자에 필요한 컬럼 추가"
      ]
    },
    {
      "cell_type": "code",
      "execution_count": 14,
      "metadata": {
        "id": "V-BhACLAmSFr"
      },
      "outputs": [],
      "source": [
        "df_score = momentum_score(df, moment_months) # 데이터프레임 정보로부터 평균 모멘텀 스코어 계산 (temp)\n",
        "\n",
        "df = pd.merge(df, df_score, left_index = True, right_index = True, how = 'outer') # 데이터프레임 결합\n",
        "df.fillna(0, inplace = True)\n",
        "\n",
        "# 열 추가 생성 및 초기화\n",
        "df[['QQQ 주식수', 'QQQ 금액', 'SCHD 주식수', 'SCHD 금액', '합계', '원금누계', '실현손익', '연간양도세']] = 0"
      ]
    },
    {
      "cell_type": "code",
      "execution_count": 15,
      "metadata": {
        "colab": {
          "base_uri": "https://localhost:8080/"
        },
        "id": "S15cXl3RwBef",
        "outputId": "c8be3945-34f8-411f-be70-834baa3c8c4f"
      },
      "outputs": [
        {
          "name": "stdout",
          "output_type": "stream",
          "text": [
            "            QQQ 주가  SCHD 주가       환율  QQQ 배당금  SCHD 배당금  투자금  투자모멘텀스코어  \\\n",
            "2024-07-25  458.27    81.18 1,382.65     0.00      0.00    0      0.00   \n",
            "2024-07-26  462.97    82.47 1,381.43     0.00      0.00    0      0.00   \n",
            "2024-07-29  463.90    82.15 1,382.09     0.00      0.00    0      0.00   \n",
            "2024-07-30  457.53    82.80 1,381.36     0.00      0.00    0      0.00   \n",
            "2024-07-31  471.07    82.58 1,383.50     0.00      0.00  869      0.00   \n",
            "\n",
            "            평균모멘텀스코어  QQQ 주식수  QQQ 금액  SCHD 주식수  SCHD 금액  합계  원금누계  실현손익  \\\n",
            "2024-07-25      0.00        0       0         0        0   0     0     0   \n",
            "2024-07-26      0.00        0       0         0        0   0     0     0   \n",
            "2024-07-29      0.00        0       0         0        0   0     0     0   \n",
            "2024-07-30      0.00        0       0         0        0   0     0     0   \n",
            "2024-07-31      0.92        0       0         0        0   0     0     0   \n",
            "\n",
            "            연간양도세  \n",
            "2024-07-25      0  \n",
            "2024-07-26      0  \n",
            "2024-07-29      0  \n",
            "2024-07-30      0  \n",
            "2024-07-31      0  \n"
          ]
        }
      ],
      "source": [
        "print(df.tail()) # 데이터프레임 확인"
      ]
    },
    {
      "cell_type": "markdown",
      "metadata": {
        "id": "oohTjn4sw1zD"
      },
      "source": [
        "## 5. ***적립식 투자하면서 자산변동 계산(실질)***\n",
        "- 소스코드 완벽 이해 필요"
      ]
    },
    {
      "cell_type": "code",
      "execution_count": null,
      "metadata": {
        "id": "mYB5hj_5m9hw"
      },
      "outputs": [],
      "source": [
        "for m in range(len(df)):\n",
        "    if m == 0: # 첫 iteration(2011/10/20, 추가한 열들 초깃값 init.)\n",
        "        df['합계'].iloc[m] = df['투자금'].iloc[m] * (1 - 매매수수료)\n",
        "\n",
        "        df['QQQ 금액'].iloc[m] = df['합계'].iloc[m] * p1비율\n",
        "        df['QQQ 주식수'].iloc[m] = df['QQQ 금액'].iloc[m] / df['QQQ 주가'].iloc[m]\n",
        "\n",
        "        df['SCHD 금액'].iloc[m] = df['합계'].iloc[m] - df['QQQ 금액'].iloc[m]\n",
        "        df['SCHD 주식수'].iloc[m] = df['SCHD 금액'].iloc[m] / df['SCHD 주가'].iloc[m]\n",
        "\n",
        "        df['원금누계'].iloc[m] = df['투자금'].iloc[m]\n",
        "\n",
        "        df['실현손익'].iloc[m] = 0\n",
        "\n",
        "    # - - - - - - - - - - - - - - - - - - - - - - - - - - - - - - - - - - - - -\n",
        "\n",
        "    else:\n",
        "        df['합계'].iloc[m] = df['투자금'].iloc[m] * (1 - 매매수수료) + \\\n",
        "                            (df['QQQ 주가'].iloc[m] * df['QQQ 주식수'].iloc[m - 1]) + \\\n",
        "                            (df['SCHD 주가'].iloc[m] * df['SCHD 주식수'].iloc[m - 1]) + \\\n",
        "                            ((df['QQQ 배당금'].iloc[m] * df['QQQ 주식수'].iloc[m - 2]) +\n",
        "                            (df['SCHD 배당금'].iloc[m] * df['SCHD 주식수'].iloc[m - 2])) * \\\n",
        "                            (1 - 배당소득세)\n",
        "\n",
        "        if df['투자금'].iloc[m] > 0: # 매월 리밸런싱 할 때(매월 '말일')는 주식 수가 변한다.\n",
        "            df['QQQ 금액'].iloc[m] = df['합계'].iloc[m] * df['평균모멘텀스코어'].iloc[m]\n",
        "            df['QQQ 주식수'].iloc[m] = df['QQQ 금액'].iloc[m] / df['QQQ 주가'].iloc[m]\n",
        "\n",
        "            df['SCHD 금액'].iloc[m] = df['합계'].iloc[m] - df['QQQ 금액'].iloc[m]\n",
        "            df['SCHD 주식수'].iloc[m] = df['SCHD 금액'].iloc[m] / df['SCHD 주가'].iloc[m]\n",
        "\n",
        "        else: # 리밸런싱을 수행하지 않는 날에는 주식 수는 고정이다. 주식 수량을 먼저 구하고 금액을 산정함에 유의한다.\n",
        "            df['QQQ 주식수'].iloc[m] = df['QQQ 주식수'].iloc[m - 1]\n",
        "            df['QQQ 금액'].iloc[m] = df['QQQ 주식수'].iloc[m] * df['QQQ 주가'].iloc[m]\n",
        "\n",
        "            df['SCHD 주식수'].iloc[m] = df['SCHD 주식수'].iloc[m - 1]\n",
        "            df['SCHD 금액'].iloc[m] = df['SCHD 주식수'].iloc[m] * df['SCHD 주가'].iloc[m]\n",
        "\n",
        "        df['원금누계'].iloc[m] = df['원금누계'].iloc[m - 1] + df['투자금'].iloc[m]\n",
        "\n",
        "        # 매월 리밸런싱 시 실현손익 구하기\n",
        "        if df['투자금'].iloc[m] > 0 and m > 0:\n",
        "            for j in range(1, 33): # 한 달 31일 기준 넉넉하게 32일 전까지의 데이터를 순차확인\n",
        "                if df['투자금'].iloc[m - j] > 0:\n",
        "                    if df['QQQ 주식수'].iloc[m] < df['QQQ 주식수'].iloc[m - j]:\n",
        "                        df['실현손익'].iloc[m] = (df['QQQ 주식수'].iloc[m - j] - df['QQQ 주식수'].iloc[m]) * \\\n",
        "                                               (df['QQQ 주가'].iloc[m] - df['QQQ 주가'].iloc[m - j]) - \\\n",
        "                                               (df['QQQ 주식수'].iloc[m - j] - df['QQQ 주식수'].iloc[m]) * \\\n",
        "                                               df['QQQ 주가'].iloc[m] * 매매수수료\n",
        "\n",
        "                    if df['SCHD 주식수'].iloc[m] < df['SCHD 주식수'].iloc[m - j]:\n",
        "                        df['실현손익'].iloc[m] = (df['SCHD 주식수'].iloc[m - j] - df['SCHD 주식수'].iloc[m]) * \\\n",
        "                                               (df['SCHD 주가'].iloc[m] - df['SCHD 주가'].iloc[m - j]) - \\\n",
        "                                               (df['SCHD 주식수'].iloc[m - j] - df['SCHD 주식수'].iloc[m]) * \\\n",
        "                                               df['SCHD 주가'].iloc[m] * 매매수수료\n",
        "                        break\n",
        "\n",
        "        else:\n",
        "            df['실현손익'].iloc[m] = 0\n",
        "\n",
        "        # 실현손익으로 양도소득세 계산 및 합계, 주식금액을 양도소득세를 제외한 금액으로 정정\n",
        "        if 양도소득세적용여부 == 1: # 양도소득세 적용 시 금액 계산\n",
        "            if df.index[m] in li_lastdays:\n",
        "                연간실현손익 = df['실현손익'].loc[str(df.index[m])[:4]].sum() * df['환율'].iloc[m] # ':4'는 연도만 추출하기 위함. 환율 곱해서 원화로 변환\n",
        "                print(f'{str(df.index[m])[:4]}년 실현손익 : {round(연간실현손익, 0):,}')\n",
        "\n",
        "                if 연간실현손익 >= 2500000:\n",
        "                    df['연간양도세'].iloc[m] = ((연간실현손익 - 2500000) * 연간양도세율) / df['환율'].iloc[m] # 달러로 변환\n",
        "                    print(f\"{df['연간양도세'].index[m]}연간양도세 : {round(df['연간양도세'].iloc[m] * df['환율'].iloc[m], 0):,}\")\n",
        "\n",
        "                    df['합계'].iloc[m] = df['투자금'].iloc[m] * (1 - 매매수수료) + \\\n",
        "                                        (df['QQQ 주가'].iloc[m] * df['QQQ 주식수'].iloc[m - 1]) + (df['SCHD 주가'].iloc[m] * df['SCHD 주식수'].iloc[m - 1]) + \\\n",
        "                                        (df['QQQ 배당금'].iloc[m] * df['QQQ 주식수'].iloc[m - 2] + df['SCHD 배당금'].iloc[m] * df['SCHD 주식수'].iloc[m - 2]) * (1 - 배당소득세) - \\\n",
        "                                        df['연간양도세'].iloc[m]\n",
        "\n",
        "                    df['QQQ 금액'].iloc[m] = df['합계'].iloc[m] * p1비율\n",
        "                    df['QQQ 주식수'].iloc[m] = df['QQQ 금액'].iloc[m] / df['QQQ 주가'].iloc[m]\n",
        "\n",
        "                    df['SCHD 금액'].iloc[m] = df['합계'].iloc[m] - df['QQQ 금액'].iloc[m]\n",
        "                    df['SCHD 주식수'].iloc[m] = df['SCHD 금액'].iloc[m] / df['SCHD 주가'].iloc[m]\n",
        "\n",
        "\n",
        "# 데이터프레임 가독성 향상을 위해 재배치\n",
        "df = df[['QQQ 주가', 'QQQ 주식수', 'QQQ 금액', 'QQQ 배당금', 'SCHD 주가', 'SCHD 주식수', 'SCHD 금액', 'SCHD 배당금',\n",
        "         '투자금', '합계', '원금누계', '실현손익', '환율', '연간양도세', '평균모멘텀스코어', '투자모멘텀스코어']]"
      ]
    },
    {
      "cell_type": "markdown",
      "metadata": {
        "id": "8Mfx8jxzRyBE"
      },
      "source": [
        "## 6. 두 가지 자산의 누적수익률 비교를 위해 백분율로 표현하기"
      ]
    },
    {
      "cell_type": "code",
      "execution_count": null,
      "metadata": {
        "id": "9fUk8AGyR3Ig"
      },
      "outputs": [],
      "source": [
        "df['QQQ 주가백분율'] = df['QQQ 주가'] / df['QQQ 주가'].iloc[0] # iloc[0]은 2011년 10월 20일 주가 기준임에 유의\n",
        "df['SCHD 주가백분율'] = df['SCHD 주가'] / df['SCHD 주가'].iloc[0] # iloc[0]은 2011년 10월 20일 주가 기준임에 유의\n",
        "df['전략백분율'] = df['합계'] / df['원금누계']\n",
        "\n",
        "df.dropna(inplace = True)"
      ]
    },
    {
      "cell_type": "markdown",
      "metadata": {
        "id": "S7N1fh29UFrO"
      },
      "source": [
        "## 7. CAGR, MDD 구하기"
      ]
    },
    {
      "cell_type": "code",
      "execution_count": 18,
      "metadata": {
        "colab": {
          "base_uri": "https://localhost:8080/"
        },
        "id": "f2Vl7cQvUKhv",
        "outputId": "4a13f920-500c-43f7-f648-d5e0d454ef31"
      },
      "outputs": [
        {
          "name": "stdout",
          "output_type": "stream",
          "text": [
            "MDD(QQQ) : -0.351 / MDD(SCHD) : -0.334 / MDD(전략) : -0.286\n",
            "CAGR(QQQ) : 0.186 / CAGR(SCHD) : 0.128\n",
            "CAGR(전략) : 0.222 / CAGR(실질전략) : 0.138\n"
          ]
        }
      ],
      "source": [
        "mdd_etf1 = get_mdd(df['QQQ 주가'])\n",
        "mdd_etf2 = get_mdd(df['SCHD 주가'])\n",
        "mdd_전략 = get_mdd(df['합계'])\n",
        "\n",
        "mdd_format = f'MDD({p1}) : {round(mdd_etf1, 3)} / MDD({p2}) : {round(mdd_etf2, 3)} / MDD(전략) : {round(mdd_전략, 3)}'\n",
        "print(mdd_format)\n",
        "\n",
        "# - - - - - - - - - - - - - - - - - - - - - - - - - - - - - - - - - - - - - - -\n",
        "\n",
        "cagr_etf1 = get_cagr(df, 'QQQ 주가백분율')\n",
        "cagr_etf2 = get_cagr(df, 'SCHD 주가백분율')\n",
        "cagr_전략 = get_cagr(df, '합계')\n",
        "cagr_전략_실질 = get_cagr(df, '전략백분율')\n",
        "\n",
        "cagr_etf_format = f'CAGR({p1}) : {round(cagr_etf1, 3)} / CAGR({p2}) : {round(cagr_etf2, 3)}'\n",
        "print(cagr_etf_format)\n",
        "cagr_전략_format = f'CAGR(전략) : {round(cagr_전략, 3)} / CAGR(실질전략) : {round(cagr_전략_실질, 3)}'\n",
        "print(cagr_전략_format)"
      ]
    },
    {
      "cell_type": "markdown",
      "metadata": {
        "id": "qzWUs7OxVCK8"
      },
      "source": [
        "## 8. 수익률 구하기"
      ]
    },
    {
      "cell_type": "code",
      "execution_count": 28,
      "metadata": {
        "colab": {
          "base_uri": "https://localhost:8080/"
        },
        "id": "2q_rtJiGUwzx",
        "outputId": "aa9ce10f-8a9f-409e-cb4f-1c501a714e62"
      },
      "outputs": [
        {
          "name": "stdout",
          "output_type": "stream",
          "text": [
            "QQQ ETF 수익률 : 8.14\n",
            "SCHD ETF 수익률 : 3.8\n",
            "총투자금 = $219913, 합계 = $1176159, 실현수익 = $956246, 전략 수익률 : 4.35\n"
          ]
        }
      ],
      "source": [
        "# 2011/11월(iloc[0]) ~ 2024/07월(iloc[-1]) 수익률\n",
        "qqq수익률 = df['QQQ 주가'].iloc[-1] / df['QQQ 주가'].iloc[0] - 1\n",
        "schd수익률 = df['SCHD 주가'].iloc[-1] / df['SCHD 주가'].iloc[0] - 1\n",
        "\n",
        "총투자금 = df['투자금'].sum()\n",
        "전략수익률 = df['합계'].iloc[-1] / 총투자금 - 1\n",
        "\n",
        "print(f'{p1} ETF 수익률 : {round(qqq수익률, 2)}')\n",
        "print(f'{p2} ETF 수익률 : {round(schd수익률, 2)}')\n",
        "print(f'총투자금 = ${총투자금}, 합계 = ${int(df[\"합계\"].iloc[-1])}, 실현수익 = ${int(df[\"합계\"].iloc[-1] - 총투자금)}, 전략 수익률 : {round(전략수익률, 2)}')"
      ]
    },
    {
      "cell_type": "markdown",
      "metadata": {
        "id": "6JbVnQWUWSe0"
      },
      "source": [
        "## 9. 양도소득세 총계 계산하기"
      ]
    },
    {
      "cell_type": "code",
      "execution_count": 21,
      "metadata": {
        "colab": {
          "base_uri": "https://localhost:8080/"
        },
        "id": "Cw9hzL3jV-Eh",
        "outputId": "be5fa788-14cc-4215-e516-f0dc6306e770"
      },
      "outputs": [
        {
          "name": "stdout",
          "output_type": "stream",
          "text": [
            "양도소득세 총계 : $4,962.0 (약 6,865,068.0원)\n"
          ]
        }
      ],
      "source": [
        "print(f\"양도소득세 총계 : ${round(df['연간양도세'].sum(), 0):,} (약 {round(df['연간양도세'].sum() * df['환율'].iloc[-1], 0):,}원)\")"
      ]
    },
    {
      "cell_type": "markdown",
      "metadata": {
        "id": "-s8-pru5XuJj"
      },
      "source": [
        "## 10. 엑셀파일로 만들기"
      ]
    },
    {
      "cell_type": "code",
      "execution_count": 24,
      "metadata": {
        "id": "eFBFQSQgW5dd"
      },
      "outputs": [],
      "source": [
        "df.to_excel(f'동적분배 백테스트({p1}, {p2} 모멘텀기간 {moment_months}개월 CAGR {round(cagr_전략_실질 * 100, 1)}%, '\n",
        "            f'MDD {round(mdd_전략 * 100, 1)}%).xlsx')"
      ]
    },
    {
      "cell_type": "markdown",
      "metadata": {
        "id": "t9pzzRC2aFgA"
      },
      "source": [
        "## 11. pyplot으로 QQQ, SCHD, 전략별 수익률 그래프 그리기"
      ]
    },
    {
      "cell_type": "code",
      "execution_count": 25,
      "metadata": {
        "colab": {
          "base_uri": "https://localhost:8080/",
          "height": 510
        },
        "id": "2_t-KjxTaKmR",
        "outputId": "6f7598a9-27bd-4ca6-f9cf-ea242f2f8cfe"
      },
      "outputs": [
        {
          "data": {
            "image/png": "[encoded data removed]",
            "text/plain": [
              "<Figure size 1600x900 with 1 Axes>"
            ]
          },
          "metadata": {},
          "output_type": "display_data"
        }
      ],
      "source": [
        "plt.rcParams['figure.figsize'] = (16, 9)\n",
        "\n",
        "plt.plot(df.index, df['QQQ 주가백분율'], color = 'blue', label = p1)\n",
        "plt.plot(df.index, df['SCHD 주가백분율'], color = 'green', label = p2)\n",
        "plt.plot(df.index, df['전략백분율'], color = 'red', label = 'strategy')\n",
        "plt.grid(True)\n",
        "plt.legend(loc = 'best')\n",
        "\n",
        "plt.title(f\"{p1}, {p2} Dynamic Ratio Invest Backtesting using Average Momentum Score ({moment_months} months)\")\n",
        "\n",
        "plt.show()"
      ]
    }
  ],
  "metadata": {
    "colab": {
      "provenance": []
    },
    "kernelspec": {
      "display_name": "Python 3",
      "name": "python3"
    },
    "language_info": {
      "name": "python"
    }
  },
  "nbformat": 4,
  "nbformat_minor": 0
}
