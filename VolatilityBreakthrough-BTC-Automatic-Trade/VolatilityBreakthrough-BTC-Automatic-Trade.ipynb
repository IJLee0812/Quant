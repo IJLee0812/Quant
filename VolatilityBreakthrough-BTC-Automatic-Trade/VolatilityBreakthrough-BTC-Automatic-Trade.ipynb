{
  "cells": [
    {
      "cell_type": "markdown",
      "metadata": {
        "id": "vEdJ_Tfz-f8s"
      },
      "source": [
        "## 변동성 돌파 전략을 이용한 비트코인 매매 프로젝트\n",
        "\n",
        "▶ 비트코인 상승장을 타겟팅한 변동성 돌파 전략을 구현 후 상승장이 다가오면 사용해 보고자 함.\n",
        "\n",
        "⚠️ 매우 간단한 변동성 돌파 로직이다. 따라서 해당 소스코드 로직 실사용은 엄금한다."
      ]
    },
    {
      "cell_type": "markdown",
      "metadata": {
        "id": "2FiHHsT85Hg_"
      },
      "source": [
        "# 1. 필요 라이브러리 install 및 import"
      ]
    },
    {
      "cell_type": "code",
      "execution_count": null,
      "metadata": {
        "colab": {
          "base_uri": "https://localhost:8080/"
        },
        "id": "mvGweltRwGm-",
        "outputId": "cadd0d89-357f-4e71-dcb9-92cb572a2cd2"
      },
      "outputs": [],
      "source": [
        "!pip install pyupbit\n",
        "import pyupbit\n",
        "import datetime\n",
        "import time, calendar"
      ]
    },
    {
      "cell_type": "markdown",
      "metadata": {
        "id": "GWBdOvjDxY4y"
      },
      "source": [
        "# 2. 함수 정의"
      ]
    },
    {
      "cell_type": "code",
      "execution_count": null,
      "metadata": {
        "id": "8ZiVMsDuwMLE"
      },
      "outputs": [],
      "source": [
        "\"\"\"\n",
        "    get_targetPrice 함수 : 변동성 돌파 전략을 사용하기 위한 타깃 가격 구하는 함수.\n",
        "    df는 pyupbit의 get_ohlcv() 함수로 받아온 차트 데이터(메인함수에서), 최신의 데이터가 마지막에 저장되어 있으므로\n",
        "    인덱스 -1은 오늘, -2는 어제의 데이터를 나타낸다. 전일 고가와 저가의 차이를 구하여 Range를 구하고, 당일 시가에\n",
        "    range * K 값을 더하여 targetPrice를 구하여 리턴한다.\n",
        "\"\"\"\n",
        "def get_targetPrice(df, K):\n",
        "    range = df['high'][-2] - df['low'][-2]\n",
        "    return df['open'][-1] + range * K\n",
        "\n",
        "\"\"\"\n",
        "    buy_all 함수 : 현재 가지고 있는 KRW 잔액 모두를 사용하여 시장가로 BTC 매수.\n",
        "    (업비트 거래소는 최소 주문 금액 5,000원이므로 이를 만족할 때만 주문이 실행하도록 조건문을 설정함.)\n",
        "\"\"\"\n",
        "def buy_all(coin):\n",
        "    balance = upbit.get_balance(\"KRW\")\n",
        "    if balance > 5000:\n",
        "        upbit.buy_market_order(coin, balance)\n",
        "\"\"\"\n",
        "    sell_all 함수 : BTC를 전량 시장가 매도.\n",
        "    (업비트 거래소는 최소 주문 금액 5,000원이므로 이를 만족할 때만 주문이 실행하도록 조건문을 설정함.)\n",
        "\"\"\"\n",
        "def sell_all(coin): # 가지고 있는 특정 가상화폐를 전량 시장가 매도.\n",
        "    balance = upbit.get_balance(coin)\n",
        "    price = pyupbit.get_current_price(coin)\n",
        "    if price * balance > 5000:\n",
        "        upbit.sell_market_order(coin, balance)"
      ]
    },
    {
      "cell_type": "markdown",
      "metadata": {
        "id": "73zoBjvcxbUh"
      },
      "source": [
        "# 3. 메인함수 작성"
      ]
    },
    {
      "cell_type": "code",
      "execution_count": null,
      "metadata": {
        "colab": {
          "base_uri": "https://localhost:8080/",
          "height": 211
        },
        "id": "EzUkZ-Zrxeql",
        "outputId": "075c9f26-3a8a-4922-ff0e-9318117430d8"
      },
      "outputs": [],
      "source": [
        "if __name__ == '__main__':\n",
        "    try:\n",
        "        upbit = pyupbit.Upbit('access_key', 'secret_key')   # 개인의 업비트 (Access Key, Secret Key) 기입\n",
        "\n",
        "        coin = \"KRW-BTC\"    # 매매를 진행할 가상화폐 Ticker\n",
        "        fees = 0.0005       # 수수료(0.05%임에 유의)\n",
        "        K = 0.5             # target price를 구할 때 사용할 K값 (백테스팅 결과, BTC는 K = 0.5가 적합)\n",
        "\n",
        "        df = pyupbit.get_ohlcv(coin, count = 2, interval = \"day\")   # 시작 지점에서 차트를 불러옴.\n",
        "        targetPrice = get_targetPrice(df, K)                        # 첫 targetPrice 설정\n",
        "\n",
        "        \"\"\"\n",
        "            반복문 loop : 현재 가상화폐의 가격이 targetPrice보다 높아졌는지 체크하고, 이를 만족하면 전액 매수한다.\n",
        "            매일 09:00 AM은 새로운 일봉이 시작되는 시간이다. 따라서 가지고 있는 BTC 전량 매도 후,\n",
        "            차트 데이터와 targetPrice를 Update한다.\n",
        "            BTC의 현재가가 targetPrice를 돌파해서 매수가 진행되고 나면, 다음날 시가에 이를 매도하기 전까지\n",
        "            아무런 작업을 할 필요가 없기 때문에, 이 시간 동안은 프로그램을 쉬도록 한다.\n",
        "        \"\"\"\n",
        "        while True:\n",
        "            now = datetime.datetime.now()\n",
        "            if now.hour == 9 and now.minute == 0 and now.second == 0:\n",
        "                sell_all(coin)\n",
        "                df = pyupbit.get_ohlcv(coin, count = 2, interval = \"day\")\n",
        "                targetPrice = get_targetPrice(df, K)\n",
        "            if targetPrice <= pyupbit.get_current_price(coin):\n",
        "                buy_all(coin)\n",
        "                start_time = df.index[-1]                               # 오늘 장 시작 시각의 시간 데이터 저장\n",
        "                end_time = start_time + datetime.timedelta(days = 1)    # 다음 날 09:00 AM 값\n",
        "                time.sleep((end_time - now).seconds)                    # 다음 날 장 시작시간까지 남은 시간이 나오고, 이를 초로 환산하여 다음날 장 시작까지 프로그램 멈춤\n",
        "            time.sleep(1)\n",
        "    except Exception as e:  # 예외처리\n",
        "        print(e)\n",
        "        time.sleep(1)"
      ]
    }
  ],
  "metadata": {
    "colab": {
      "authorship_tag": "ABX9TyNNFq20NCIyoltMdl+Fw1Zt",
      "include_colab_link": true,
      "mount_file_id": "1-ssU8PeBVAsd74pqaF6OLIEP4zGswlI8",
      "provenance": []
    },
    "kernelspec": {
      "display_name": "Python 3",
      "name": "python3"
    },
    "language_info": {
      "name": "python"
    }
  },
  "nbformat": 4,
  "nbformat_minor": 0
}
