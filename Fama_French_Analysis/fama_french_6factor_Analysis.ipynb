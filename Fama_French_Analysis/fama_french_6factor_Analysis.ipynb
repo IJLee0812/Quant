{
  "nbformat": 4,
  "nbformat_minor": 0,
  "metadata": {
    "colab": {
      "provenance": []
    },
    "kernelspec": {
      "name": "python3",
      "display_name": "Python 3"
    },
    "language_info": {
      "name": "python"
    }
  },
  "cells": [
    {
      "cell_type": "markdown",
      "source": [
        "# Fama-French 6 factor Model Analysis Tool\n",
        "\n",
        "### **references :**\n",
        "1. https://ssupapers.tistory.com/1\n",
        "2. ChatGPT\n",
        "\n",
        "<br>\n",
        "\n",
        "- 원본 3 factor 코드(PAPERS tistory 블로그 제공) 활용.\n",
        "- RMSE 도출하는 로직 추가.\n",
        "- 추가 팩터인 UMD(Up Minus Down, Momentum Factor)도 분석에 포함."
      ],
      "metadata": {
        "id": "RsiQ_XVSAQxb"
      }
    },
    {
      "cell_type": "markdown",
      "source": [
        "---\n",
        "\n",
        "# I. 필요 라이브러리 호출 및 함수 정의"
      ],
      "metadata": {
        "id": "EvNrBhXkAzMJ"
      }
    },
    {
      "cell_type": "code",
      "execution_count": 4,
      "metadata": {
        "id": "1K6LkNIb74JQ"
      },
      "outputs": [],
      "source": [
        "import yfinance as yf\n",
        "import pandas_datareader.data as web\n",
        "import pandas as pd\n",
        "import statsmodels.api as sm\n",
        "import numpy as np\n",
        "\n",
        "\n",
        "# 월말 수익률 도출 메소드\n",
        "def get_monthly_returns(ticker, start_date, end_date):\n",
        "    stock_data = yf.download(ticker, start = start_date, end = end_date, interval = '1mo')\n",
        "\n",
        "    x = stock_data['Adj Close'].resample('M').last().pct_change().dropna()\n",
        "\n",
        "    x.name = 'Return' # = 수익률\n",
        "\n",
        "    return x\n",
        "\n",
        "\n",
        "# 파마-프렌치 5 factor 데이터 가져오는 메소드\n",
        "def get_factors(start_date, end_date):\n",
        "    # pandas datareader를 사용하여 F-F_Research_Data_5_Factors_2x3 데이터를 가져옴, 딕셔너리 형태이므로 첫 번째 데이터프레임을 추출\n",
        "    ff_data = web.DataReader('F-F_Research_Data_5_Factors_2x3', 'famafrench', start_date, end_date)[0]\n",
        "\n",
        "    # PeriodIndex를 Timestamp로 변환\n",
        "    ff_data.index = ff_data.index.to_timestamp()\n",
        "\n",
        "    # 필요한 컬럼만 선택하여 월 단위로 리샘플링\n",
        "    ff_data = ff_data[['Mkt-RF', 'SMB', 'HML', 'RMW', 'CMA', 'RF']].resample('M').last()\n",
        "\n",
        "    # 퍼센트 단위를 소수점으로 변환\n",
        "    ff_data /= 100\n",
        "\n",
        "    return ff_data\n",
        "\n",
        "\n",
        "# 파마-프랜치 6번째 factor인 모멘텀 데이터 가져오는 메소드\n",
        "def get_momentum(start_date, end_date):\n",
        "    # pandas datareader를 사용하여 F-F_Momentum_Factor 데이터를 가져옴, 딕셔너리 형태이므로 첫 번째 데이터프레임을 추출\n",
        "    momentum = web.DataReader('F-F_Momentum_Factor', 'famafrench', start_date, end_date)[0]\n",
        "\n",
        "    # PeriodIndex를 Timestamp로 변환\n",
        "    momentum.index = momentum.index.to_timestamp()\n",
        "\n",
        "    # 월 단위로 리샘플링\n",
        "    momentum = momentum.resample('M').last()\n",
        "\n",
        "    # 퍼센트 단위를 소수점으로 변환\n",
        "    momentum /= 100\n",
        "\n",
        "    momentum.columns = ['UMD']\n",
        "\n",
        "    return momentum\n",
        "\n",
        "\n",
        "# 수익률과 팩터 데이터를 하나의 데이터프레임으로 병합하는 메소드\n",
        "def merge_data(ticker, start_date, end_date):\n",
        "    monthly_returns = get_monthly_returns(ticker, start_date, end_date)\n",
        "\n",
        "    fama5 = get_factors(start_date, end_date)\n",
        "\n",
        "    momentum = get_momentum(start_date, end_date)\n",
        "\n",
        "    factors = pd.merge(fama5, momentum, left_index = True, right_index = True)\n",
        "\n",
        "    df = pd.merge(monthly_returns, factors, left_index = True, right_index = True)\n",
        "\n",
        "    df['Excess Return'] = df['Return'] - df['RF'] # Excess Return : 초과수익률 의미\n",
        "\n",
        "    return df\n",
        "\n",
        "\n",
        "# 파마-프렌치 6 factor 모델로 OLS 회귀를 진행하여 타겟변수 ETF에 대해 분석하는 메소드\n",
        "def estimate_ff_model(df):\n",
        "    X = df[['Mkt-RF', 'SMB', 'HML', 'RMW', 'CMA', 'UMD']]\n",
        "\n",
        "    # 독립변수 X : 5 factors\n",
        "    X = sm.add_constant(X) # 모델에 상수항(alpha = y절편)을 추가\n",
        "\n",
        "    # 종속변수 y : 분석하고자 하는 ETF의 (무위험채권 대비) 초과수익률\n",
        "    y = df['Excess Return']\n",
        "\n",
        "    # OLS(최소자승법)을 사용해 회귀모델 적합\n",
        "    model = sm.OLS(y, X).fit()\n",
        "\n",
        "    # 예측값 계산\n",
        "    predictions = model.predict(X)\n",
        "\n",
        "    # RMSE 계산\n",
        "    rmse = np.sqrt(((predictions - y) ** 2).mean())\n",
        "\n",
        "    return model.summary(), rmse"
      ]
    },
    {
      "cell_type": "markdown",
      "source": [
        "---\n",
        "\n",
        "# II. 각 ETF 분석 수행\n",
        "- User에게 직접 ETF ticker명 이름을 input으로 받도록 수정.\n"
      ],
      "metadata": {
        "id": "pQOe0fbdA4IQ"
      }
    },
    {
      "cell_type": "code",
      "source": [
        "def main():\n",
        "    ticker_list = ['IWM', 'SPY', 'VTV', 'VUG', 'MTUM', 'QUAL', 'VYMI', 'USMV', 'KBE', 'IYK', 'IYC']\n",
        "\n",
        "    start_date = '2000-01-01'\n",
        "    end_date = '2024-09-01'\n",
        "\n",
        "    for ticker in ticker_list:\n",
        "        df = merge_data(ticker, start_date, end_date)\n",
        "\n",
        "        model_summary, rmse = estimate_ff_model(df)\n",
        "\n",
        "        print(f'\\n{model_summary}\\n') ; print(f'\\nRMSE : {rmse}\\n')\n",
        "\n",
        "if __name__ == \"__main__\":\n",
        "    main()"
      ],
      "metadata": {
        "id": "uq6HV_fWAyN1"
      },
      "execution_count": null,
      "outputs": []
    },
    {
      "cell_type": "markdown",
      "source": [
        "| ETF | RMSE | R-squared | Adjusted R-squared | Constant | Mkt-RF | SMB | HML | RMW | CMA | UMD |\n",
        "| --- | --- | --- | --- | --- | --- | --- | --- | --- | --- | --- |\n",
        "| IWM | 0.00681 | 0.986 | 0.986 | -0.0009 | 1.0099 | 0.8192 | 0.0858 | -0.0868 | -0.0056 | 0.0378 |\n",
        "| SPY | 0.00497 | 0.988 | 0.988 | -0.0002 | 0.9939 | -0.1570 | 0.0119 | 0.0605 | 0.0416 | -0.0416 |\n",
        "| VTV | 0.00900 | 0.957 | 0.956 | -0.0004 | 0.9278 | -0.1493 | 0.2990 | 0.0544 | 0.1570 | -0.0349 |\n",
        "| VUG | 0.00817 | 0.971 | 0.970 | 0.0003 | 1.0785 | -0.1204 | -0.2542 | 0.0251 | -0.1495 | -0.0099 |\n",
        "| MTUM | 0.01390 | 0.906 | 0.902 | -0.0008 | 1.0747 | -0.1237 | -0.0335 | -0.1057 | 0.0343 | 0.3843 |\n",
        "| QUAL | 0.00730 | 0.973 | 0.972 | -0.0007 | 1.0048 | -0.1225 | -0.0175 | 0.1897 | -0.0302 | 0.0074 |\n",
        "| VYMI | 0.02178 | 0.785 | 0.771 | -0.0021 | 0.7684 | -0.1774 | 0.3093 | -0.0583 | 0.1839 | -0.2281 |\n",
        "| USMV | 0.01320 | 0.847 | 0.841 | -0.0007 | 0.7846 | -0.0958 | -0.0632 | 0.2884 | 0.2260 | 0.1263 |\n",
        "| KBE | 0.03402 | 0.819 | 0.814 | 0.0013 | 0.9012 | 0.1736 | 1.4094 | -0.6084 | -0.7755 | -0.1535 |\n",
        "| IYK | 0.02021 | 0.717 | 0.711 | -0.0011 | 0.7678 | -0.0484 | -0.0464 | 0.4134 | 0.4817 | -0.0093 |\n",
        "| IYC | 0.01852 | 0.870 | 0.868 | -0.0004 | 1.0036 | 0.1468 | -0.0648 | 0.1790 | -0.0695 | -0.0833 |"
      ],
      "metadata": {
        "id": "EDW4dtnYa63m"
      }
    }
  ]
}