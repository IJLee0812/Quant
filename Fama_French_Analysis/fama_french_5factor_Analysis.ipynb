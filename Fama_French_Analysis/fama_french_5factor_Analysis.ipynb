{
  "nbformat": 4,
  "nbformat_minor": 0,
  "metadata": {
    "colab": {
      "provenance": []
    },
    "kernelspec": {
      "name": "python3",
      "display_name": "Python 3"
    },
    "language_info": {
      "name": "python"
    }
  },
  "cells": [
    {
      "cell_type": "markdown",
      "source": [
        "# Fama-French 5 factor Model Analysis Tool\n",
        "\n",
        "### **references :**\n",
        "1. https://ssupapers.tistory.com/1\n",
        "2. ChatGPT\n",
        "\n",
        "<br>\n",
        "\n",
        "- 원본 3 factor 코드(PAPERS tistory 블로그 제공) 활용.\n",
        "- RMSE 도출하는 로직 추가.\n",
        "- 두 가지 추가 팩터인 RMW (Profitability)와 CMA (Investment)도 분석에 포함."
      ],
      "metadata": {
        "id": "RsiQ_XVSAQxb"
      }
    },
    {
      "cell_type": "markdown",
      "source": [
        "---\n",
        "\n",
        "# I. 필요 라이브러리 호출 및 함수 정의"
      ],
      "metadata": {
        "id": "EvNrBhXkAzMJ"
      }
    },
    {
      "cell_type": "code",
      "execution_count": 1,
      "metadata": {
        "id": "1K6LkNIb74JQ"
      },
      "outputs": [],
      "source": [
        "import yfinance as yf\n",
        "import pandas_datareader.data as web\n",
        "import pandas as pd\n",
        "import statsmodels.api as sm\n",
        "import numpy as np\n",
        "\n",
        "# 월말 수익률 도출 메소드\n",
        "def get_monthly_returns(ticker, start_date, end_date):\n",
        "    stock_data = yf.download(ticker, start = start_date, end = end_date, interval = '1mo')\n",
        "\n",
        "    x = stock_data['Adj Close'].resample('M').last().pct_change().dropna()\n",
        "\n",
        "    x.name = 'Return' # = 수익률\n",
        "\n",
        "    return x\n",
        "\n",
        "# 파마-프렌치 5 factor 데이터 가져오는 메소드\n",
        "def get_factors(start_date, end_date):\n",
        "    # pandas datareader를 사용하여 F-F_Research_Data_5_Factors_2x3 데이터를 가져옴\n",
        "    ff_data = web.DataReader('F-F_Research_Data_5_Factors_2x3', 'famafrench', start=start_date, end=end_date)\n",
        "\n",
        "    # 데이터는 딕셔너리 형태이므로 첫 번째 데이터프레임을 추출\n",
        "    ff_data = ff_data[0]\n",
        "\n",
        "    # PeriodIndex를 Timestamp로 변환\n",
        "    ff_data.index = ff_data.index.to_timestamp()\n",
        "\n",
        "    # 필요한 컬럼만 선택하여 월 단위로 리샘플링\n",
        "    ff_data = ff_data[['Mkt-RF', 'SMB', 'HML', 'RMW', 'CMA', 'RF']].resample('M').last()\n",
        "\n",
        "    # 퍼센트 단위를 소수점으로 변환\n",
        "    ff_data /= 100\n",
        "\n",
        "    return ff_data\n",
        "\n",
        "# 수익률과 팩터 데이터를 하나의 데이터프레임으로 병합하는 메소드\n",
        "def merge_data(ticker, start_date, end_date):\n",
        "    monthly_returns = get_monthly_returns(ticker, start_date, end_date)\n",
        "\n",
        "    fama_french = get_factors(start_date, end_date)\n",
        "\n",
        "    df = pd.merge(monthly_returns, fama_french, left_index=True, right_index=True)\n",
        "\n",
        "    df['Excess Return'] = df['Return'] - df['RF'] # Excess Return : 초과수익률 의미\n",
        "\n",
        "    return df\n",
        "\n",
        "# 파마-프렌치 5 factor 모델로 OLS 회귀를 진행하여 타겟변수 ETF에 대해 분석하는 메소드\n",
        "def estimate_ff_model(df):\n",
        "    X = df[['Mkt-RF', 'SMB', 'HML', 'RMW', 'CMA']]\n",
        "\n",
        "    # 독립변수 X : 5 factors\n",
        "    X = sm.add_constant(X) # 모델에 상수항(alpha = y절편)을 추가\n",
        "\n",
        "    # 종속변수 y : 분석하고자 하는 ETF의 (무위험채권 대비) 초과수익률\n",
        "    y = df['Excess Return']\n",
        "\n",
        "    # OLS(최소자승법)을 사용해 회귀모델 적합\n",
        "    model = sm.OLS(y, X).fit()\n",
        "\n",
        "    # 예측값 계산\n",
        "    predictions = model.predict(X)\n",
        "\n",
        "    # RMSE 계산\n",
        "    rmse = np.sqrt(((predictions - y) ** 2).mean())\n",
        "\n",
        "    return model.summary(), rmse"
      ]
    },
    {
      "cell_type": "markdown",
      "source": [
        "---\n",
        "\n",
        "# II. 각 ETF 분석 수행\n",
        "- User에게 직접 ETF ticker명 이름을 input으로 받도록 수정.\n"
      ],
      "metadata": {
        "id": "pQOe0fbdA4IQ"
      }
    },
    {
      "cell_type": "code",
      "source": [
        "def main():\n",
        "    # ticker = input('분석하고자 하는 ETF의 ticker명 입력(Yahoo Finance 기준) : ')\n",
        "    ticker_list = ['IWM', 'SPY', 'VTV', 'VUG', 'MTUM', 'QUAL', 'VYMI', 'USMV', 'KBE', 'IYK', 'IYC']\n",
        "\n",
        "    start_date = '2000-01-01'\n",
        "    end_date = '2024-09-01'\n",
        "\n",
        "    for ticker in ticker_list:\n",
        "        df = merge_data(ticker, start_date, end_date)\n",
        "\n",
        "        model_summary, rmse = estimate_ff_model(df)\n",
        "\n",
        "        print(f'\\n{model_summary}\\n') ; print(f'\\nRMSE : {rmse}\\n')\n",
        "\n",
        "if __name__ == \"__main__\":\n",
        "    main()"
      ],
      "metadata": {
        "id": "uq6HV_fWAyN1"
      },
      "execution_count": null,
      "outputs": []
    },
    {
      "cell_type": "markdown",
      "source": [
        "| ETF | RMSE | R-squared | Adjusted R-squared | Constant | Mkt-RF | SMB | HML | RMW | CMA |\n",
        "| --- | --- | --- | --- | --- | --- | --- | --- | --- | --- |\n",
        "| IWM | 0.00700 | 0.986 | 0.985 | -0.0008 | 0.9975 | 0.8176 | 0.0707 | -0.0732 | 0.0111 |\n",
        "| SPY | 0.00532 | 0.986 | 0.986 | -0.0003 | 1.0092 | -0.1647 | 0.0353 | 0.0533 | 0.0196 |\n",
        "| VTV | 0.00910 | 0.956 | 0.955 | -0.0005 | 0.9366 | -0.1453 | 0.3174 | 0.0562 | 0.1410 |\n",
        "| VUG | 0.00818 | 0.971 | 0.970 | 0.0002 | 1.0810 | -0.1193 | -0.2490 | 0.0256 | -0.1540 |\n",
        "| MTUM | 0.01847 | 0.835 | 0.828 | 0.0009 | 0.9927 | -0.2539 | -0.1654 | -0.2162 | 0.1566 |\n",
        "| QUAL | 0.00730 | 0.973 | 0.972 | -0.0007 | 1.0032 | -0.1250 | -0.0200 | 0.1877 | -0.0280 |\n",
        "| VYMI | 0.02291 | 0.762 | 0.749 | -0.0030 | 0.8123 | -0.0730 | 0.3713 | 0.0085 | 0.0988 |\n",
        "| USMV | 0.01376 | 0.834 | 0.829 | -0.0001 | 0.7547 | -0.1352 | -0.1116 | 0.2627 | 0.2725 |\n",
        "| KBE | 0.03454 | 0.814 | 0.810 | 0.0011 | 0.9388 | 0.1982 | 1.4944 | -0.6021 | -0.8515 |\n",
        "| IYK | 0.02022 | 0.717 | 0.712 | -0.0011 | 0.7708 | -0.0480 | -0.0427 | 0.4101 | 0.4777 |\n",
        "| IYC | 0.01886 | 0.866 | 0.863 | -0.0005 | 1.0310 | 0.1502 | -0.0318 | 0.1490 | -0.1061 |"
      ],
      "metadata": {
        "id": "Sgc-k0Kwd5wV"
      }
    }
  ]
}