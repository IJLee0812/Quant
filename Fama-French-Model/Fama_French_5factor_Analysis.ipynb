{
  "nbformat": 4,
  "nbformat_minor": 0,
  "metadata": {
    "colab": {
      "provenance": []
    },
    "kernelspec": {
      "name": "python3",
      "display_name": "Python 3"
    },
    "language_info": {
      "name": "python"
    }
  },
  "cells": [
    {
      "cell_type": "markdown",
      "source": [
        "# Fama-French 5 factor Model Analysis Tool\n",
        "\n",
        "### **references :**\n",
        "1. https://ssupapers.tistory.com/1\n",
        "2. ChatGPT\n",
        "\n",
        "<br>\n",
        "\n",
        "- 원본 3 factor 코드(PAPERS tistory 블로그 제공) 활용.\n",
        "- RMSE 도출하는 로직 추가.\n",
        "- 두 가지 추가 요인인 RMW (Profitability)와 CMA (Investment)도 분석에 포함."
      ],
      "metadata": {
        "id": "RsiQ_XVSAQxb"
      }
    },
    {
      "cell_type": "markdown",
      "source": [
        "---\n",
        "\n",
        "# I. 필요 라이브러리 호출 및 함수 정의"
      ],
      "metadata": {
        "id": "EvNrBhXkAzMJ"
      }
    },
    {
      "cell_type": "code",
      "execution_count": 14,
      "metadata": {
        "id": "1K6LkNIb74JQ"
      },
      "outputs": [],
      "source": [
        "import yfinance as yf\n",
        "import pandas_datareader.data as web\n",
        "import pandas as pd\n",
        "import statsmodels.api as sm\n",
        "import numpy as np\n",
        "\n",
        "# 월말 수익률 도출 메소드\n",
        "def get_monthly_returns(ticker, start_date, end_date):\n",
        "    stock_data = yf.download(ticker, start = start_date, end = end_date, interval = '1mo')\n",
        "\n",
        "    x = stock_data['Adj Close'].resample('M').last().pct_change().dropna()\n",
        "\n",
        "    x.name = 'Return' # = 수익률\n",
        "\n",
        "    return x\n",
        "\n",
        "# 파마-프렌치 5 factor 데이터 가져오는 메소드\n",
        "def get_factors(start_date, end_date):\n",
        "    # pandas datareader를 사용하여 F-F_Research_Data_5_Factors_2x3 데이터를 가져옴\n",
        "    ff_data = web.DataReader('F-F_Research_Data_5_Factors_2x3', 'famafrench', start=start_date, end=end_date)\n",
        "\n",
        "    # 데이터는 딕셔너리 형태이므로 첫 번째 데이터프레임을 추출\n",
        "    ff_data = ff_data[0]\n",
        "\n",
        "    # PeriodIndex를 Timestamp로 변환\n",
        "    ff_data.index = ff_data.index.to_timestamp()\n",
        "\n",
        "    # 필요한 컬럼만 선택하여 월 단위로 리샘플링\n",
        "    ff_data = ff_data[['Mkt-RF', 'SMB', 'HML', 'RMW', 'CMA', 'RF']].resample('M').last()\n",
        "\n",
        "    # 퍼센트 단위를 소수점으로 변환\n",
        "    ff_data /= 100\n",
        "\n",
        "    return ff_data\n",
        "\n",
        "# 수익률과 팩터 데이터를 하나의 데이터프레임으로 병합하는 메소드\n",
        "def merge_data(ticker, start_date, end_date):\n",
        "    monthly_returns = get_monthly_returns(ticker, start_date, end_date)\n",
        "\n",
        "    fama_french = get_factors(start_date, end_date)\n",
        "\n",
        "    df = pd.merge(monthly_returns, fama_french, left_index=True, right_index=True)\n",
        "\n",
        "    df['Excess Return'] = df['Return'] - df['RF'] # Excess Return : 초과수익률 의미\n",
        "\n",
        "    return df\n",
        "\n",
        "# 파마-프렌치 5 factor 모델로 OLS 회귀를 진행하여 타겟변수 ETF에 대해 분석하는 메소드\n",
        "def estimate_ff_model(df):\n",
        "    X = df[['Mkt-RF', 'SMB', 'HML', 'RMW', 'CMA']]\n",
        "\n",
        "    # 독립변수 X : 5 factors\n",
        "    X = sm.add_constant(X) # 모델에 상수항(alpha = y절편)을 추가\n",
        "\n",
        "    # 종속변수 y : 분석하고자 하는 ETF의 (무위험채권 대비) 초과수익률\n",
        "    y = df['Excess Return']\n",
        "\n",
        "    # OLS(최소자승법)을 사용해 회귀모델 적합\n",
        "    model = sm.OLS(y, X).fit()\n",
        "\n",
        "    # 예측값 계산\n",
        "    predictions = model.predict(X)\n",
        "\n",
        "    # RMSE 계산\n",
        "    rmse = np.sqrt(((predictions - y) ** 2).mean())\n",
        "\n",
        "    return model.summary(), rmse"
      ]
    },
    {
      "cell_type": "markdown",
      "source": [
        "---\n",
        "\n",
        "# II. 각 ETF 분석 수행\n",
        "- User에게 직접 ETF ticker명 이름을 input으로 받도록 수정.\n"
      ],
      "metadata": {
        "id": "pQOe0fbdA4IQ"
      }
    },
    {
      "cell_type": "code",
      "source": [
        "ticker = input('분석하고자 하는 ETF의 ticker명 입력(Yahoo Finance 기준) : ')\n",
        "\n",
        "start_date = '2000-01-01'\n",
        "end_date = '2024-09-01'\n",
        "\n",
        "df = merge_data(ticker, start_date, end_date)\n",
        "\n",
        "model_summary, rmse = estimate_ff_model(df)\n",
        "print(f'\\n{model_summary}\\n') ; print(f'\\nRMSE : {rmse}\\n')"
      ],
      "metadata": {
        "colab": {
          "base_uri": "https://localhost:8080/"
        },
        "id": "uq6HV_fWAyN1",
        "outputId": "5b2774e2-547a-463e-b10f-441a0e28561f"
      },
      "execution_count": 15,
      "outputs": [
        {
          "name": "stdout",
          "output_type": "stream",
          "text": [
            "분석하고자 하는 ETF의 ticker명 입력(Yahoo Finance 기준) : SPY\n"
          ]
        },
        {
          "output_type": "stream",
          "name": "stderr",
          "text": [
            "\r[*********************100%***********************]  1 of 1 completed\n",
            "<ipython-input-14-1766148628e7>:20: FutureWarning: The argument 'date_parser' is deprecated and will be removed in a future version. Please use 'date_format' instead, or read your data in as 'object' dtype and then call 'to_datetime'.\n",
            "  ff_data = web.DataReader('F-F_Research_Data_5_Factors_2x3', 'famafrench', start=start_date, end=end_date)\n"
          ]
        },
        {
          "output_type": "stream",
          "name": "stdout",
          "text": [
            "\n",
            "                            OLS Regression Results                            \n",
            "==============================================================================\n",
            "Dep. Variable:          Excess Return   R-squared:                       0.986\n",
            "Model:                            OLS   Adj. R-squared:                  0.986\n",
            "Method:                 Least Squares   F-statistic:                     4056.\n",
            "Date:                Thu, 05 Sep 2024   Prob (F-statistic):          1.47e-264\n",
            "Time:                        07:30:17   Log-Likelihood:                 1122.4\n",
            "No. Observations:                 294   AIC:                            -2233.\n",
            "Df Residuals:                     288   BIC:                            -2211.\n",
            "Df Model:                           5                                         \n",
            "Covariance Type:            nonrobust                                         \n",
            "==============================================================================\n",
            "                 coef    std err          t      P>|t|      [0.025      0.975]\n",
            "------------------------------------------------------------------------------\n",
            "const         -0.0003      0.000     -0.874      0.383      -0.001       0.000\n",
            "Mkt-RF         1.0092      0.008    130.832      0.000       0.994       1.024\n",
            "SMB           -0.1647      0.012    -13.809      0.000      -0.188      -0.141\n",
            "HML            0.0353      0.013      2.793      0.006       0.010       0.060\n",
            "RMW            0.0533      0.014      3.735      0.000       0.025       0.081\n",
            "CMA            0.0196      0.019      1.034      0.302      -0.018       0.057\n",
            "==============================================================================\n",
            "Omnibus:                       20.648   Durbin-Watson:                   2.679\n",
            "Prob(Omnibus):                  0.000   Jarque-Bera (JB):               66.188\n",
            "Skew:                           0.117   Prob(JB):                     4.24e-15\n",
            "Kurtosis:                       5.313   Cond. No.                         68.2\n",
            "==============================================================================\n",
            "\n",
            "Notes:\n",
            "[1] Standard Errors assume that the covariance matrix of the errors is correctly specified.\n",
            "\n",
            "\n",
            "RMSE : 0.005317693510002847\n",
            "\n"
          ]
        },
        {
          "output_type": "stream",
          "name": "stderr",
          "text": [
            "<ipython-input-14-1766148628e7>:20: FutureWarning: The argument 'date_parser' is deprecated and will be removed in a future version. Please use 'date_format' instead, or read your data in as 'object' dtype and then call 'to_datetime'.\n",
            "  ff_data = web.DataReader('F-F_Research_Data_5_Factors_2x3', 'famafrench', start=start_date, end=end_date)\n"
          ]
        }
      ]
    },
    {
      "cell_type": "code",
      "source": [],
      "metadata": {
        "id": "piaaOtDmF0Gp"
      },
      "execution_count": null,
      "outputs": []
    }
  ]
}